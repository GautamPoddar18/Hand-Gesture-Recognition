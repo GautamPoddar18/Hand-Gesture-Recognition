{
 "cells": [
  {
   "cell_type": "markdown",
   "id": "06ea30c5",
   "metadata": {
    "papermill": {
     "duration": 0.009479,
     "end_time": "2022-12-14T06:27:30.234619",
     "exception": false,
     "start_time": "2022-12-14T06:27:30.225140",
     "status": "completed"
    },
    "tags": []
   },
   "source": [
    "# Gesture Recognition\n",
    "In this group project, you are going to build a 3D Conv model that will be able to predict the 5 gestures correctly. Please import the following libraries to get started."
   ]
  },
  {
   "cell_type": "code",
   "execution_count": 1,
   "id": "846e5783",
   "metadata": {
    "execution": {
     "iopub.execute_input": "2022-12-14T06:27:30.252958Z",
     "iopub.status.busy": "2022-12-14T06:27:30.252127Z",
     "iopub.status.idle": "2022-12-14T06:27:30.263114Z",
     "shell.execute_reply": "2022-12-14T06:27:30.262202Z"
    },
    "papermill": {
     "duration": 0.023252,
     "end_time": "2022-12-14T06:27:30.265948",
     "exception": false,
     "start_time": "2022-12-14T06:27:30.242696",
     "status": "completed"
    },
    "tags": []
   },
   "outputs": [
    {
     "name": "stdout",
     "output_type": "stream",
     "text": [
      "Using Kaggle GPU for this Project\n"
     ]
    }
   ],
   "source": [
    "print('Using Kaggle GPU for this Project')"
   ]
  },
  {
   "cell_type": "markdown",
   "id": "2283128a",
   "metadata": {
    "papermill": {
     "duration": 0.016152,
     "end_time": "2022-12-14T06:27:30.297028",
     "exception": false,
     "start_time": "2022-12-14T06:27:30.280876",
     "status": "completed"
    },
    "tags": []
   },
   "source": [
    "## Checking Versions of the Library and GPU"
   ]
  },
  {
   "cell_type": "code",
   "execution_count": 2,
   "id": "358fb1d9",
   "metadata": {
    "execution": {
     "iopub.execute_input": "2022-12-14T06:27:30.324786Z",
     "iopub.status.busy": "2022-12-14T06:27:30.324329Z",
     "iopub.status.idle": "2022-12-14T06:27:38.633011Z",
     "shell.execute_reply": "2022-12-14T06:27:38.631804Z"
    },
    "papermill": {
     "duration": 8.324319,
     "end_time": "2022-12-14T06:27:38.636705",
     "exception": false,
     "start_time": "2022-12-14T06:27:30.312386",
     "status": "completed"
    },
    "tags": []
   },
   "outputs": [
    {
     "name": "stdout",
     "output_type": "stream",
     "text": [
      "\n",
      "Tensorflow Version: 2.6.4\n",
      "\n",
      "Keras Version: 2.6.0\n",
      "\n",
      "Python 3.7.12 | packaged by conda-forge | (default, Oct 26 2021, 06:08:53) \n",
      "[GCC 9.4.0]\n",
      "\n",
      "Pandas 1.3.5\n",
      "\n",
      "Scikit-Learn 1.0.2\n",
      "\n",
      "GPU is available\n"
     ]
    },
    {
     "name": "stderr",
     "output_type": "stream",
     "text": [
      "2022-12-14 06:27:36.207960: I tensorflow/core/platform/cpu_feature_guard.cc:142] This TensorFlow binary is optimized with oneAPI Deep Neural Network Library (oneDNN) to use the following CPU instructions in performance-critical operations:  AVX2 AVX512F FMA\n",
      "To enable them in other operations, rebuild TensorFlow with the appropriate compiler flags.\n",
      "2022-12-14 06:27:36.276710: I tensorflow/stream_executor/cuda/cuda_gpu_executor.cc:937] successful NUMA node read from SysFS had negative value (-1), but there must be at least one NUMA node, so returning NUMA node zero\n",
      "2022-12-14 06:27:36.372365: I tensorflow/stream_executor/cuda/cuda_gpu_executor.cc:937] successful NUMA node read from SysFS had negative value (-1), but there must be at least one NUMA node, so returning NUMA node zero\n",
      "2022-12-14 06:27:36.373202: I tensorflow/stream_executor/cuda/cuda_gpu_executor.cc:937] successful NUMA node read from SysFS had negative value (-1), but there must be at least one NUMA node, so returning NUMA node zero\n",
      "2022-12-14 06:27:38.620901: I tensorflow/stream_executor/cuda/cuda_gpu_executor.cc:937] successful NUMA node read from SysFS had negative value (-1), but there must be at least one NUMA node, so returning NUMA node zero\n",
      "2022-12-14 06:27:38.621767: I tensorflow/stream_executor/cuda/cuda_gpu_executor.cc:937] successful NUMA node read from SysFS had negative value (-1), but there must be at least one NUMA node, so returning NUMA node zero\n",
      "2022-12-14 06:27:38.622447: I tensorflow/stream_executor/cuda/cuda_gpu_executor.cc:937] successful NUMA node read from SysFS had negative value (-1), but there must be at least one NUMA node, so returning NUMA node zero\n",
      "2022-12-14 06:27:38.623046: I tensorflow/core/common_runtime/gpu/gpu_device.cc:1510] Created device /device:GPU:0 with 15401 MB memory:  -> device: 0, name: Tesla P100-PCIE-16GB, pci bus id: 0000:00:04.0, compute capability: 6.0\n"
     ]
    }
   ],
   "source": [
    "import sys\n",
    "import tensorflow.keras\n",
    "import pandas as pd\n",
    "import sklearn as sk\n",
    "import tensorflow as tf\n",
    "\n",
    "print()\n",
    "print(f\"Tensorflow Version: {tf.__version__}\")\n",
    "print()\n",
    "print(f\"Keras Version: {tensorflow.keras.__version__}\")\n",
    "print()\n",
    "print(f\"Python {sys.version}\")\n",
    "print()\n",
    "print(f\"Pandas {pd.__version__}\")\n",
    "print()\n",
    "print(f\"Scikit-Learn {sk.__version__}\")\n",
    "print()\n",
    "print(\"GPU is\", \"available\" if tf.test.is_gpu_available() else \"NOT AVAILABLE\")\n",
    "\n"
   ]
  },
  {
   "cell_type": "markdown",
   "id": "65587200",
   "metadata": {
    "papermill": {
     "duration": 0.008067,
     "end_time": "2022-12-14T06:27:38.653141",
     "exception": false,
     "start_time": "2022-12-14T06:27:38.645074",
     "status": "completed"
    },
    "tags": []
   },
   "source": []
  },
  {
   "cell_type": "markdown",
   "id": "3542556f",
   "metadata": {
    "execution": {
     "iopub.execute_input": "2022-12-13T19:13:21.321084Z",
     "iopub.status.busy": "2022-12-13T19:13:21.320430Z",
     "iopub.status.idle": "2022-12-13T19:13:21.325846Z",
     "shell.execute_reply": "2022-12-13T19:13:21.324798Z",
     "shell.execute_reply.started": "2022-12-13T19:13:21.321051Z"
    },
    "papermill": {
     "duration": 0.008029,
     "end_time": "2022-12-14T06:27:38.669322",
     "exception": false,
     "start_time": "2022-12-14T06:27:38.661293",
     "status": "completed"
    },
    "tags": []
   },
   "source": [
    "## Importing Basic Libaries"
   ]
  },
  {
   "cell_type": "code",
   "execution_count": 3,
   "id": "af2d0ac7",
   "metadata": {
    "execution": {
     "iopub.execute_input": "2022-12-14T06:27:38.687320Z",
     "iopub.status.busy": "2022-12-14T06:27:38.686801Z",
     "iopub.status.idle": "2022-12-14T06:27:38.977168Z",
     "shell.execute_reply": "2022-12-14T06:27:38.976249Z"
    },
    "papermill": {
     "duration": 0.302271,
     "end_time": "2022-12-14T06:27:38.979804",
     "exception": false,
     "start_time": "2022-12-14T06:27:38.677533",
     "status": "completed"
    },
    "tags": []
   },
   "outputs": [],
   "source": [
    "import numpy as np\n",
    "import os\n",
    "#from scipy.misc import imread, imresize\n",
    "import imageio.v2 as imageio\n",
    "from skimage.transform import resize\n",
    "import datetime\n",
    "import os"
   ]
  },
  {
   "cell_type": "code",
   "execution_count": 4,
   "id": "bb97aa48",
   "metadata": {
    "execution": {
     "iopub.execute_input": "2022-12-14T06:27:38.998183Z",
     "iopub.status.busy": "2022-12-14T06:27:38.997896Z",
     "iopub.status.idle": "2022-12-14T06:27:39.003164Z",
     "shell.execute_reply": "2022-12-14T06:27:39.002337Z"
    },
    "papermill": {
     "duration": 0.016912,
     "end_time": "2022-12-14T06:27:39.005319",
     "exception": false,
     "start_time": "2022-12-14T06:27:38.988407",
     "status": "completed"
    },
    "tags": []
   },
   "outputs": [],
   "source": [
    "import matplotlib.pyplot as plt\n",
    "import warnings\n",
    "warnings.filterwarnings('ignore')"
   ]
  },
  {
   "cell_type": "markdown",
   "id": "de3a4a6e",
   "metadata": {
    "papermill": {
     "duration": 0.008195,
     "end_time": "2022-12-14T06:27:39.021941",
     "exception": false,
     "start_time": "2022-12-14T06:27:39.013746",
     "status": "completed"
    },
    "tags": []
   },
   "source": [
    "We set the random seed so that the results don't vary drastically."
   ]
  },
  {
   "cell_type": "code",
   "execution_count": 5,
   "id": "07b7554c",
   "metadata": {
    "execution": {
     "iopub.execute_input": "2022-12-14T06:27:39.040489Z",
     "iopub.status.busy": "2022-12-14T06:27:39.039504Z",
     "iopub.status.idle": "2022-12-14T06:27:39.045121Z",
     "shell.execute_reply": "2022-12-14T06:27:39.044279Z"
    },
    "papermill": {
     "duration": 0.016889,
     "end_time": "2022-12-14T06:27:39.047033",
     "exception": false,
     "start_time": "2022-12-14T06:27:39.030144",
     "status": "completed"
    },
    "tags": []
   },
   "outputs": [],
   "source": [
    "np.random.seed(30)\n",
    "import random as rn\n",
    "rn.seed(30)\n",
    "from keras import backend as K\n",
    "import tensorflow as tf\n",
    "tf.random.set_seed(30)"
   ]
  },
  {
   "cell_type": "markdown",
   "id": "a040474f",
   "metadata": {
    "papermill": {
     "duration": 0.00803,
     "end_time": "2022-12-14T06:27:39.063353",
     "exception": false,
     "start_time": "2022-12-14T06:27:39.055323",
     "status": "completed"
    },
    "tags": []
   },
   "source": [
    "In this block, you read the folder names for training and validation. You also set the `batch_size` here. Note that you set the batch size in such a way that you are able to use the GPU in full capacity. You keep increasing the batch size until the machine throws an error."
   ]
  },
  {
   "cell_type": "code",
   "execution_count": 6,
   "id": "849f4b69",
   "metadata": {
    "execution": {
     "iopub.execute_input": "2022-12-14T06:27:39.082472Z",
     "iopub.status.busy": "2022-12-14T06:27:39.080930Z",
     "iopub.status.idle": "2022-12-14T06:27:39.103013Z",
     "shell.execute_reply": "2022-12-14T06:27:39.102155Z"
    },
    "papermill": {
     "duration": 0.033514,
     "end_time": "2022-12-14T06:27:39.105027",
     "exception": false,
     "start_time": "2022-12-14T06:27:39.071513",
     "status": "completed"
    },
    "tags": []
   },
   "outputs": [],
   "source": [
    "train_doc = np.random.permutation(open('/kaggle/input/gesture-recognition/Project_data/train.csv').readlines())\n",
    "val_doc = np.random.permutation(open('/kaggle/input/gesture-recognition/Project_data/val.csv').readlines())\n",
    "batch_size = 64"
   ]
  },
  {
   "cell_type": "markdown",
   "id": "79f43c33",
   "metadata": {
    "papermill": {
     "duration": 0.008257,
     "end_time": "2022-12-14T06:27:39.121583",
     "exception": false,
     "start_time": "2022-12-14T06:27:39.113326",
     "status": "completed"
    },
    "tags": []
   },
   "source": [
    "## Generator\n",
    "This is one of the most important part of the code. The overall structure of the generator has been given. In the generator, you are going to preprocess the images as you have images of 2 different dimensions as well as create a batch of video frames. You have to experiment with `img_idx`, `y`,`z` and normalization such that you get high accuracy."
   ]
  },
  {
   "cell_type": "code",
   "execution_count": 7,
   "id": "a3a994b9",
   "metadata": {
    "execution": {
     "iopub.execute_input": "2022-12-14T06:27:39.140200Z",
     "iopub.status.busy": "2022-12-14T06:27:39.139236Z",
     "iopub.status.idle": "2022-12-14T06:27:39.148079Z",
     "shell.execute_reply": "2022-12-14T06:27:39.146795Z"
    },
    "papermill": {
     "duration": 0.020339,
     "end_time": "2022-12-14T06:27:39.150171",
     "exception": false,
     "start_time": "2022-12-14T06:27:39.129832",
     "status": "completed"
    },
    "tags": []
   },
   "outputs": [
    {
     "name": "stdout",
     "output_type": "stream",
     "text": [
      "# img_tensor = [array([ 0,  2,  3,  5,  6,  8,  9, 11, 12, 14, 15, 17, 18, 20, 21, 23, 24,\n",
      "       26, 27, 29]), 100, 100, 3]\n"
     ]
    }
   ],
   "source": [
    "def getImgTensor(n_frames):\n",
    "    img_idx = np.round(np.linspace(0, 29, n_frames)).astype(int)\n",
    "    return [img_idx, 100, 100, 3]\n",
    "\n",
    "# define image tensor size\n",
    "img_tensor = getImgTensor(20)\n",
    "print ('# img_tensor =', img_tensor)"
   ]
  },
  {
   "cell_type": "code",
   "execution_count": 8,
   "id": "bae96796",
   "metadata": {
    "execution": {
     "iopub.execute_input": "2022-12-14T06:27:39.169544Z",
     "iopub.status.busy": "2022-12-14T06:27:39.168058Z",
     "iopub.status.idle": "2022-12-14T06:27:39.173009Z",
     "shell.execute_reply": "2022-12-14T06:27:39.172142Z"
    },
    "papermill": {
     "duration": 0.016446,
     "end_time": "2022-12-14T06:27:39.175027",
     "exception": false,
     "start_time": "2022-12-14T06:27:39.158581",
     "status": "completed"
    },
    "tags": []
   },
   "outputs": [],
   "source": [
    "def normalizeImage(image):\n",
    "    # applying normalization\n",
    "    return image/255.0"
   ]
  },
  {
   "cell_type": "code",
   "execution_count": 9,
   "id": "067f343b",
   "metadata": {
    "execution": {
     "iopub.execute_input": "2022-12-14T06:27:39.194071Z",
     "iopub.status.busy": "2022-12-14T06:27:39.192509Z",
     "iopub.status.idle": "2022-12-14T06:27:39.198248Z",
     "shell.execute_reply": "2022-12-14T06:27:39.197369Z"
    },
    "papermill": {
     "duration": 0.016934,
     "end_time": "2022-12-14T06:27:39.200171",
     "exception": false,
     "start_time": "2022-12-14T06:27:39.183237",
     "status": "completed"
    },
    "tags": []
   },
   "outputs": [],
   "source": [
    "def cropResize(image, y, z):\n",
    "    h, w = image.shape\n",
    "    \n",
    "    # if smaller image crop at center for 120x120\n",
    "    if w == 160:\n",
    "        image = image[:120, 20:140]\n",
    "\n",
    "    # resize every image\n",
    "    return resize(image, (y,z))"
   ]
  },
  {
   "cell_type": "code",
   "execution_count": 10,
   "id": "4036eb93",
   "metadata": {
    "execution": {
     "iopub.execute_input": "2022-12-14T06:27:39.220939Z",
     "iopub.status.busy": "2022-12-14T06:27:39.220040Z",
     "iopub.status.idle": "2022-12-14T06:27:39.225115Z",
     "shell.execute_reply": "2022-12-14T06:27:39.223995Z"
    },
    "papermill": {
     "duration": 0.016305,
     "end_time": "2022-12-14T06:27:39.227151",
     "exception": false,
     "start_time": "2022-12-14T06:27:39.210846",
     "status": "completed"
    },
    "tags": []
   },
   "outputs": [],
   "source": [
    "def preprocessImage(image, y, z):\n",
    "    return normalizeImage(cropResize(image, y, z))"
   ]
  },
  {
   "cell_type": "code",
   "execution_count": 11,
   "id": "b3678487",
   "metadata": {
    "execution": {
     "iopub.execute_input": "2022-12-14T06:27:39.245937Z",
     "iopub.status.busy": "2022-12-14T06:27:39.245070Z",
     "iopub.status.idle": "2022-12-14T06:27:39.254482Z",
     "shell.execute_reply": "2022-12-14T06:27:39.253671Z"
    },
    "papermill": {
     "duration": 0.020728,
     "end_time": "2022-12-14T06:27:39.256390",
     "exception": false,
     "start_time": "2022-12-14T06:27:39.235662",
     "status": "completed"
    },
    "tags": []
   },
   "outputs": [],
   "source": [
    "def getBatchData(source_path, t, batch, batch_size, img_tensor):\n",
    "    [x,y,z] = [len(img_tensor[0]),img_tensor[1], img_tensor[2]]\n",
    "    img_idx = img_tensor[0]\n",
    "    batch_data = np.zeros((batch_size,x,y,z,3)) # x is the number of images you use for each video, (y,z) is the final size of the input images and 3 is the number of channels RGB\n",
    "    batch_labels = np.zeros((batch_size,5)) # batch_labels is the one hot representation of the output\n",
    "    \n",
    "    for folder in range(batch_size): # iterate over the batch_size\n",
    "        imgs = os.listdir(source_path+'/'+ t[folder + (batch*batch_size)].split(';')[0]) # read all the images in the folder\n",
    "        for idx,item in enumerate(img_idx): #  Iterate iver the frames/images of a folder to read them in\n",
    "            image = imageio.imread(source_path+'/'+ t[folder + (batch*batch_size)].strip().split(';')[0]+'/'+imgs[item]).astype(np.float32)\n",
    "\n",
    "            #crop the images and resize them. Note that the images are of 2 different shape \n",
    "            #and the conv3D will throw error if the inputs in a batch have different shapes\n",
    "\n",
    "            # separate preprocessImage function is defined for cropping, resizing and normalizing images\n",
    "            batch_data[folder,idx,:,:,0] = preprocessImage(image[:, :, 0], y, z)\n",
    "            batch_data[folder,idx,:,:,1] = preprocessImage(image[:, :, 1], y, z)\n",
    "            batch_data[folder,idx,:,:,2] = preprocessImage(image[:, :, 2], y, z)\n",
    "\n",
    "        batch_labels[folder, int(t[folder + (batch*batch_size)].strip().split(';')[2])] = 1\n",
    "    return batch_data, batch_labels"
   ]
  },
  {
   "cell_type": "code",
   "execution_count": 12,
   "id": "6c7e77e4",
   "metadata": {
    "execution": {
     "iopub.execute_input": "2022-12-14T06:27:39.274506Z",
     "iopub.status.busy": "2022-12-14T06:27:39.273753Z",
     "iopub.status.idle": "2022-12-14T06:27:39.280409Z",
     "shell.execute_reply": "2022-12-14T06:27:39.279528Z"
    },
    "papermill": {
     "duration": 0.017808,
     "end_time": "2022-12-14T06:27:39.282362",
     "exception": false,
     "start_time": "2022-12-14T06:27:39.264554",
     "status": "completed"
    },
    "tags": []
   },
   "outputs": [],
   "source": [
    "def generator(source_path, folder_list, batch_size, img_tensor):\n",
    "    print( 'Source path = ', source_path, '; batch size =', batch_size)\n",
    "    while True:\n",
    "        t = np.random.permutation(folder_list)\n",
    "        num_batches = int(len(folder_list)/batch_size)\n",
    "        for batch in range(num_batches): # we iterate over the number of batches\n",
    "            yield getBatchData(source_path, t, batch, batch_size, img_tensor)\n",
    "        \n",
    "        # write the code for the remaining data points which are left after full batches\n",
    "        # checking if any remaining batches are there or not\n",
    "        if len(folder_list)%batch_size != 0:\n",
    "            # updated the batch size and yield\n",
    "            batch_size = len(folder_list)%batch_size\n",
    "            yield getBatchData(source_path, t, batch, batch_size, img_tensor)"
   ]
  },
  {
   "cell_type": "markdown",
   "id": "bbc48a7f",
   "metadata": {
    "papermill": {
     "duration": 0.008058,
     "end_time": "2022-12-14T06:27:39.298728",
     "exception": false,
     "start_time": "2022-12-14T06:27:39.290670",
     "status": "completed"
    },
    "tags": []
   },
   "source": [
    "Note here that a video is represented above in the generator as (number of images, height, width, number of channels). Take this into consideration while creating the model architecture."
   ]
  },
  {
   "cell_type": "code",
   "execution_count": 13,
   "id": "3cadf6bc",
   "metadata": {
    "execution": {
     "iopub.execute_input": "2022-12-14T06:27:39.317101Z",
     "iopub.status.busy": "2022-12-14T06:27:39.316217Z",
     "iopub.status.idle": "2022-12-14T06:27:39.323668Z",
     "shell.execute_reply": "2022-12-14T06:27:39.322627Z"
    },
    "papermill": {
     "duration": 0.019267,
     "end_time": "2022-12-14T06:27:39.326189",
     "exception": false,
     "start_time": "2022-12-14T06:27:39.306922",
     "status": "completed"
    },
    "tags": []
   },
   "outputs": [
    {
     "name": "stdout",
     "output_type": "stream",
     "text": [
      "# training sequences = 663\n",
      "# validation sequences = 100\n",
      "# epochs = 15\n"
     ]
    }
   ],
   "source": [
    "curr_dt_time = datetime.datetime.now()\n",
    "train_path = '/kaggle/input/gesture-recognition/Project_data/train'\n",
    "val_path = '/kaggle/input/gesture-recognition/Project_data/val'\n",
    "num_train_sequences = len(train_doc)\n",
    "print('# training sequences =', num_train_sequences)\n",
    "num_val_sequences = len(val_doc)\n",
    "print('# validation sequences =', num_val_sequences)\n",
    "num_epochs = 15 # choose the number of epochs\n",
    "print ('# epochs =', num_epochs)"
   ]
  },
  {
   "cell_type": "markdown",
   "id": "bef79074",
   "metadata": {
    "papermill": {
     "duration": 0.008304,
     "end_time": "2022-12-14T06:27:39.343115",
     "exception": false,
     "start_time": "2022-12-14T06:27:39.334811",
     "status": "completed"
    },
    "tags": []
   },
   "source": []
  },
  {
   "cell_type": "code",
   "execution_count": 14,
   "id": "da13e96a",
   "metadata": {
    "execution": {
     "iopub.execute_input": "2022-12-14T06:27:39.361971Z",
     "iopub.status.busy": "2022-12-14T06:27:39.361013Z",
     "iopub.status.idle": "2022-12-14T06:28:09.076478Z",
     "shell.execute_reply": "2022-12-14T06:28:09.074984Z"
    },
    "papermill": {
     "duration": 29.727089,
     "end_time": "2022-12-14T06:28:09.078595",
     "exception": false,
     "start_time": "2022-12-14T06:27:39.351506",
     "status": "completed"
    },
    "tags": []
   },
   "outputs": [
    {
     "name": "stdout",
     "output_type": "stream",
     "text": [
      "Source path =  /kaggle/input/gesture-recognition/Project_data/train ; batch size = 64\n",
      "(64, 20, 100, 100, 3)\n",
      "Source path =  /kaggle/input/gesture-recognition/Project_data/val ; batch size = 64\n",
      "(64, 20, 100, 100, 3)\n"
     ]
    }
   ],
   "source": [
    "# check complete batch shape\n",
    "sample_generator = generator(train_path, train_doc, batch_size, img_tensor)\n",
    "sample_batch_data, sample_batch_labels = next(sample_generator)\n",
    "print(sample_batch_data.shape)\n",
    "\n",
    "# validation batch sample\n",
    "sample_val_generator = generator(val_path, val_doc, batch_size, img_tensor)\n",
    "sample_val_batch_data, sample_val_batch_labels = next(sample_val_generator)\n",
    "print(sample_val_batch_data.shape)"
   ]
  },
  {
   "cell_type": "code",
   "execution_count": 15,
   "id": "7af39b0b",
   "metadata": {
    "execution": {
     "iopub.execute_input": "2022-12-14T06:28:09.098584Z",
     "iopub.status.busy": "2022-12-14T06:28:09.097094Z",
     "iopub.status.idle": "2022-12-14T06:28:09.391509Z",
     "shell.execute_reply": "2022-12-14T06:28:09.390538Z"
    },
    "papermill": {
     "duration": 0.30609,
     "end_time": "2022-12-14T06:28:09.393761",
     "exception": false,
     "start_time": "2022-12-14T06:28:09.087671",
     "status": "completed"
    },
    "tags": []
   },
   "outputs": [
    {
     "data": {
      "image/png": "[encoded data removed]",
      "text/plain": [
       "<Figure size 432x288 with 2 Axes>"
      ]
     },
     "metadata": {
      "needs_background": "light"
     },
     "output_type": "display_data"
    }
   ],
   "source": [
    "# plot generated sample images\n",
    "fig, ax = plt.subplots(1,2)\n",
    "ax[0].imshow(sample_val_batch_data[1,19,:,:,:])   \n",
    "ax[1].imshow(sample_val_batch_data[63,19,:,:,:])\n",
    "plt.show()"
   ]
  },
  {
   "cell_type": "code",
   "execution_count": 16,
   "id": "f65da6a1",
   "metadata": {
    "execution": {
     "iopub.execute_input": "2022-12-14T06:28:09.415119Z",
     "iopub.status.busy": "2022-12-14T06:28:09.414833Z",
     "iopub.status.idle": "2022-12-14T06:28:09.421737Z",
     "shell.execute_reply": "2022-12-14T06:28:09.420788Z"
    },
    "papermill": {
     "duration": 0.020098,
     "end_time": "2022-12-14T06:28:09.423773",
     "exception": false,
     "start_time": "2022-12-14T06:28:09.403675",
     "status": "completed"
    },
    "tags": []
   },
   "outputs": [],
   "source": [
    "def plotModelHistory(h):\n",
    "    fig, ax = plt.subplots(1, 2, figsize=(15,4))\n",
    "    ax[0].plot(h.history['loss'])   \n",
    "    ax[0].plot(h.history['val_loss'])\n",
    "    ax[0].legend(['loss','val_loss'])\n",
    "    ax[0].title.set_text(\"Train loss vs Validation loss\")\n",
    "\n",
    "    ax[1].plot(h.history['categorical_accuracy'])   \n",
    "    ax[1].plot(h.history['val_categorical_accuracy'])\n",
    "    ax[1].legend(['categorical_accuracy','val_categorical_accuracy'])\n",
    "    ax[1].title.set_text(\"Train accuracy vs Validation accuracy\")\n",
    "    plt.show()\n",
    "\n",
    "    print(\"Max. Training Accuracy\", max(h.history['categorical_accuracy']))\n",
    "    print(\"Max. Validaiton Accuracy\", max(h.history['val_categorical_accuracy']))"
   ]
  },
  {
   "cell_type": "markdown",
   "id": "b4951cdf",
   "metadata": {
    "papermill": {
     "duration": 0.00997,
     "end_time": "2022-12-14T06:28:09.443277",
     "exception": false,
     "start_time": "2022-12-14T06:28:09.433307",
     "status": "completed"
    },
    "tags": []
   },
   "source": [
    "## Model\n",
    "Here you make the model using different functionalities that Keras provides. Remember to use `Conv3D` and `MaxPooling3D` and not `Conv2D` and `Maxpooling2D` for a 3D convolution model. You would want to use `TimeDistributed` while building a Conv2D + RNN model. Also remember that the last layer is the softmax. Design the network in such a way that the model is able to give good accuracy on the least number of parameters so that it can fit in the memory of the webcam."
   ]
  },
  {
   "cell_type": "code",
   "execution_count": 17,
   "id": "3850ee43",
   "metadata": {
    "execution": {
     "iopub.execute_input": "2022-12-14T06:28:09.463484Z",
     "iopub.status.busy": "2022-12-14T06:28:09.463220Z",
     "iopub.status.idle": "2022-12-14T06:28:09.468043Z",
     "shell.execute_reply": "2022-12-14T06:28:09.467141Z"
    },
    "papermill": {
     "duration": 0.017225,
     "end_time": "2022-12-14T06:28:09.470044",
     "exception": false,
     "start_time": "2022-12-14T06:28:09.452819",
     "status": "completed"
    },
    "tags": []
   },
   "outputs": [],
   "source": [
    "from keras.models import Sequential, Model\n",
    "from keras.layers import Dense, GRU, Flatten, TimeDistributed, Flatten, BatchNormalization, Activation, Dropout, LSTM\n",
    "from keras.layers.convolutional import Conv3D, MaxPooling3D\n",
    "from keras.callbacks import ModelCheckpoint, ReduceLROnPlateau"
   ]
  },
  {
   "cell_type": "code",
   "execution_count": 18,
   "id": "3b639f30",
   "metadata": {
    "execution": {
     "iopub.execute_input": "2022-12-14T06:28:09.490391Z",
     "iopub.status.busy": "2022-12-14T06:28:09.490134Z",
     "iopub.status.idle": "2022-12-14T06:28:09.495080Z",
     "shell.execute_reply": "2022-12-14T06:28:09.494280Z"
    },
    "papermill": {
     "duration": 0.017283,
     "end_time": "2022-12-14T06:28:09.497069",
     "exception": false,
     "start_time": "2022-12-14T06:28:09.479786",
     "status": "completed"
    },
    "tags": []
   },
   "outputs": [],
   "source": [
    "from keras.layers.convolutional import Conv3D, MaxPooling3D, Conv2D, MaxPooling2D"
   ]
  },
  {
   "cell_type": "code",
   "execution_count": 19,
   "id": "da238ae4",
   "metadata": {
    "execution": {
     "iopub.execute_input": "2022-12-14T06:28:09.517306Z",
     "iopub.status.busy": "2022-12-14T06:28:09.517037Z",
     "iopub.status.idle": "2022-12-14T06:28:09.521570Z",
     "shell.execute_reply": "2022-12-14T06:28:09.520761Z"
    },
    "papermill": {
     "duration": 0.016805,
     "end_time": "2022-12-14T06:28:09.523578",
     "exception": false,
     "start_time": "2022-12-14T06:28:09.506773",
     "status": "completed"
    },
    "tags": []
   },
   "outputs": [],
   "source": [
    "from tensorflow.keras.optimizers import Adam"
   ]
  },
  {
   "cell_type": "code",
   "execution_count": 20,
   "id": "c66a00bd",
   "metadata": {
    "execution": {
     "iopub.execute_input": "2022-12-14T06:28:09.543827Z",
     "iopub.status.busy": "2022-12-14T06:28:09.543549Z",
     "iopub.status.idle": "2022-12-14T06:28:09.548827Z",
     "shell.execute_reply": "2022-12-14T06:28:09.548036Z"
    },
    "papermill": {
     "duration": 0.017657,
     "end_time": "2022-12-14T06:28:09.550686",
     "exception": false,
     "start_time": "2022-12-14T06:28:09.533029",
     "status": "completed"
    },
    "tags": []
   },
   "outputs": [],
   "source": [
    "def make3dFilter(x):\n",
    "    return tuple([x]*3)\n",
    "\n",
    "def make2dFilter(x):\n",
    "    return tuple([x]*2)"
   ]
  },
  {
   "cell_type": "markdown",
   "id": "d2b27c52",
   "metadata": {
    "papermill": {
     "duration": 0.009281,
     "end_time": "2022-12-14T06:28:09.569594",
     "exception": false,
     "start_time": "2022-12-14T06:28:09.560313",
     "status": "completed"
    },
    "tags": []
   },
   "source": [
    "## Model 1"
   ]
  },
  {
   "cell_type": "code",
   "execution_count": 21,
   "id": "efd0d101",
   "metadata": {
    "execution": {
     "iopub.execute_input": "2022-12-14T06:28:09.590203Z",
     "iopub.status.busy": "2022-12-14T06:28:09.589399Z",
     "iopub.status.idle": "2022-12-14T06:28:10.108342Z",
     "shell.execute_reply": "2022-12-14T06:28:10.107409Z"
    },
    "papermill": {
     "duration": 0.533746,
     "end_time": "2022-12-14T06:28:10.112784",
     "exception": false,
     "start_time": "2022-12-14T06:28:09.579038",
     "status": "completed"
    },
    "tags": []
   },
   "outputs": [
    {
     "name": "stdout",
     "output_type": "stream",
     "text": [
      "Model: \"sequential\"\n",
      "_________________________________________________________________\n",
      "Layer (type)                 Output Shape              Param #   \n",
      "=================================================================\n",
      "conv3d (Conv3D)              (None, 16, 96, 96, 16)    6016      \n",
      "_________________________________________________________________\n",
      "max_pooling3d (MaxPooling3D) (None, 8, 48, 48, 16)     0         \n",
      "_________________________________________________________________\n",
      "batch_normalization (BatchNo (None, 8, 48, 48, 16)     64        \n",
      "_________________________________________________________________\n",
      "conv3d_1 (Conv3D)            (None, 6, 46, 46, 32)     13856     \n",
      "_________________________________________________________________\n",
      "max_pooling3d_1 (MaxPooling3 (None, 6, 23, 23, 32)     0         \n",
      "_________________________________________________________________\n",
      "batch_normalization_1 (Batch (None, 6, 23, 23, 32)     128       \n",
      "_________________________________________________________________\n",
      "conv3d_2 (Conv3D)            (None, 4, 21, 21, 64)     55360     \n",
      "_________________________________________________________________\n",
      "max_pooling3d_2 (MaxPooling3 (None, 4, 11, 11, 64)     0         \n",
      "_________________________________________________________________\n",
      "batch_normalization_2 (Batch (None, 4, 11, 11, 64)     256       \n",
      "_________________________________________________________________\n",
      "flatten (Flatten)            (None, 30976)             0         \n",
      "_________________________________________________________________\n",
      "dense (Dense)                (None, 128)               3965056   \n",
      "_________________________________________________________________\n",
      "batch_normalization_3 (Batch (None, 128)               512       \n",
      "_________________________________________________________________\n",
      "dropout (Dropout)            (None, 128)               0         \n",
      "_________________________________________________________________\n",
      "dense_1 (Dense)              (None, 64)                8256      \n",
      "_________________________________________________________________\n",
      "batch_normalization_4 (Batch (None, 64)                256       \n",
      "_________________________________________________________________\n",
      "dropout_1 (Dropout)          (None, 64)                0         \n",
      "_________________________________________________________________\n",
      "dense_2 (Dense)              (None, 5)                 325       \n",
      "=================================================================\n",
      "Total params: 4,050,085\n",
      "Trainable params: 4,049,477\n",
      "Non-trainable params: 608\n",
      "_________________________________________________________________\n"
     ]
    },
    {
     "name": "stderr",
     "output_type": "stream",
     "text": [
      "2022-12-14 06:28:09.627380: I tensorflow/stream_executor/cuda/cuda_gpu_executor.cc:937] successful NUMA node read from SysFS had negative value (-1), but there must be at least one NUMA node, so returning NUMA node zero\n",
      "2022-12-14 06:28:09.628314: I tensorflow/stream_executor/cuda/cuda_gpu_executor.cc:937] successful NUMA node read from SysFS had negative value (-1), but there must be at least one NUMA node, so returning NUMA node zero\n",
      "2022-12-14 06:28:09.628997: I tensorflow/stream_executor/cuda/cuda_gpu_executor.cc:937] successful NUMA node read from SysFS had negative value (-1), but there must be at least one NUMA node, so returning NUMA node zero\n",
      "2022-12-14 06:28:09.629930: I tensorflow/stream_executor/cuda/cuda_gpu_executor.cc:937] successful NUMA node read from SysFS had negative value (-1), but there must be at least one NUMA node, so returning NUMA node zero\n",
      "2022-12-14 06:28:09.630576: I tensorflow/stream_executor/cuda/cuda_gpu_executor.cc:937] successful NUMA node read from SysFS had negative value (-1), but there must be at least one NUMA node, so returning NUMA node zero\n",
      "2022-12-14 06:28:09.631235: I tensorflow/stream_executor/cuda/cuda_gpu_executor.cc:937] successful NUMA node read from SysFS had negative value (-1), but there must be at least one NUMA node, so returning NUMA node zero\n",
      "2022-12-14 06:28:09.631951: I tensorflow/stream_executor/cuda/cuda_gpu_executor.cc:937] successful NUMA node read from SysFS had negative value (-1), but there must be at least one NUMA node, so returning NUMA node zero\n",
      "2022-12-14 06:28:09.632590: I tensorflow/stream_executor/cuda/cuda_gpu_executor.cc:937] successful NUMA node read from SysFS had negative value (-1), but there must be at least one NUMA node, so returning NUMA node zero\n",
      "2022-12-14 06:28:09.633179: I tensorflow/core/common_runtime/gpu/gpu_device.cc:1510] Created device /job:localhost/replica:0/task:0/device:GPU:0 with 15401 MB memory:  -> device: 0, name: Tesla P100-PCIE-16GB, pci bus id: 0000:00:04.0, compute capability: 6.0\n"
     ]
    }
   ],
   "source": [
    "#write your model here\n",
    "def defineModel(img_tensor):\n",
    "    inputShape = (len(img_tensor[0]), img_tensor[1], img_tensor[2], img_tensor[3])\n",
    "\n",
    "    model = Sequential([\n",
    "        Conv3D(16, make3dFilter(5), activation='relu', input_shape=inputShape),\n",
    "        MaxPooling3D(make3dFilter(2), padding='same'),\n",
    "        BatchNormalization(),\n",
    "\n",
    "        Conv3D(32, make3dFilter(3), activation='relu'),\n",
    "        MaxPooling3D(pool_size=(1,2,2), padding='same'),\n",
    "        BatchNormalization(),\n",
    "\n",
    "        Conv3D(64, make3dFilter(3), activation='relu'),\n",
    "        MaxPooling3D(pool_size=(1,2,2), padding='same'),\n",
    "        BatchNormalization(),\n",
    "\n",
    "        Flatten(),\n",
    "        Dense(128, activation='relu'),\n",
    "        BatchNormalization(),\n",
    "        Dropout(0.25),\n",
    "\n",
    "        Dense(64, activation='relu'),\n",
    "        BatchNormalization(),\n",
    "        Dropout(0.25),\n",
    "\n",
    "        Dense(5, activation='softmax')\n",
    "    ])\n",
    "    model.compile(optimizer=Adam(), loss='categorical_crossentropy', metrics=['categorical_accuracy'])\n",
    "    return model\n",
    "\n",
    "model = defineModel(img_tensor)\n",
    "model.summary()"
   ]
  },
  {
   "cell_type": "markdown",
   "id": "47e64342",
   "metadata": {
    "papermill": {
     "duration": 0.015385,
     "end_time": "2022-12-14T06:28:10.138375",
     "exception": false,
     "start_time": "2022-12-14T06:28:10.122990",
     "status": "completed"
    },
    "tags": []
   },
   "source": [
    "Let us create the `train_generator` and the `val_generator` which will be used in `.fit_generator`."
   ]
  },
  {
   "cell_type": "code",
   "execution_count": 22,
   "id": "8531d38f",
   "metadata": {
    "execution": {
     "iopub.execute_input": "2022-12-14T06:28:10.162753Z",
     "iopub.status.busy": "2022-12-14T06:28:10.162417Z",
     "iopub.status.idle": "2022-12-14T06:28:10.167121Z",
     "shell.execute_reply": "2022-12-14T06:28:10.166084Z"
    },
    "papermill": {
     "duration": 0.017356,
     "end_time": "2022-12-14T06:28:10.169178",
     "exception": false,
     "start_time": "2022-12-14T06:28:10.151822",
     "status": "completed"
    },
    "tags": []
   },
   "outputs": [],
   "source": [
    "train_generator = generator(train_path, train_doc, batch_size, img_tensor)\n",
    "val_generator = generator(val_path, val_doc, batch_size, img_tensor)"
   ]
  },
  {
   "cell_type": "markdown",
   "id": "a090ac4d",
   "metadata": {
    "papermill": {
     "duration": 0.009369,
     "end_time": "2022-12-14T06:28:10.188335",
     "exception": false,
     "start_time": "2022-12-14T06:28:10.178966",
     "status": "completed"
    },
    "tags": []
   },
   "source": [
    "The `steps_per_epoch` and `validation_steps` are used by `fit_generator` to decide the number of next() calls it need to make."
   ]
  },
  {
   "cell_type": "code",
   "execution_count": 23,
   "id": "5a3358da",
   "metadata": {
    "execution": {
     "iopub.execute_input": "2022-12-14T06:28:10.209538Z",
     "iopub.status.busy": "2022-12-14T06:28:10.208722Z",
     "iopub.status.idle": "2022-12-14T06:28:10.214264Z",
     "shell.execute_reply": "2022-12-14T06:28:10.213452Z"
    },
    "papermill": {
     "duration": 0.018356,
     "end_time": "2022-12-14T06:28:10.216286",
     "exception": false,
     "start_time": "2022-12-14T06:28:10.197930",
     "status": "completed"
    },
    "tags": []
   },
   "outputs": [],
   "source": [
    "if (num_train_sequences%batch_size) == 0:\n",
    "    steps_per_epoch = int(num_train_sequences/batch_size)\n",
    "else:\n",
    "    steps_per_epoch = (num_train_sequences//batch_size) + 1\n",
    "\n",
    "if (num_val_sequences%batch_size) == 0:\n",
    "    validation_steps = int(num_val_sequences/batch_size)\n",
    "else:\n",
    "    validation_steps = (num_val_sequences//batch_size) + 1"
   ]
  },
  {
   "cell_type": "markdown",
   "id": "a79f85df",
   "metadata": {
    "papermill": {
     "duration": 0.009546,
     "end_time": "2022-12-14T06:28:10.235651",
     "exception": false,
     "start_time": "2022-12-14T06:28:10.226105",
     "status": "completed"
    },
    "tags": []
   },
   "source": [
    "## Model Callbacks Setup"
   ]
  },
  {
   "cell_type": "code",
   "execution_count": 24,
   "id": "56f697cb",
   "metadata": {
    "execution": {
     "iopub.execute_input": "2022-12-14T06:28:10.256021Z",
     "iopub.status.busy": "2022-12-14T06:28:10.255747Z",
     "iopub.status.idle": "2022-12-14T06:28:10.262436Z",
     "shell.execute_reply": "2022-12-14T06:28:10.261623Z"
    },
    "papermill": {
     "duration": 0.018974,
     "end_time": "2022-12-14T06:28:10.264286",
     "exception": false,
     "start_time": "2022-12-14T06:28:10.245312",
     "status": "completed"
    },
    "tags": []
   },
   "outputs": [],
   "source": [
    "model_name = 'model_init' + '_' + str(curr_dt_time).replace(' ','').replace(':','_') + '/'\n",
    "    \n",
    "if not os.path.exists(model_name):\n",
    "    os.mkdir(model_name)\n",
    "\n",
    "filepath = model_name + 'model-{epoch:05d}-{loss:.5f}-{categorical_accuracy:.5f}-{val_loss:.5f}-{val_categorical_accuracy:.5f}.h5'\n",
    "\n",
    "checkpoint = ModelCheckpoint(filepath, monitor='val_loss', verbose=1, save_best_only=False, save_weights_only=False, mode='auto', period=1)\n",
    "\n",
    "LR = ReduceLROnPlateau(monitor='val_loss', factor=0.2, verbose=1, patience=4)\n",
    "\n",
    "# callbacks_list = [checkpoint, LR]\n",
    "callbacks_list = [LR]"
   ]
  },
  {
   "cell_type": "markdown",
   "id": "4e1e23a8",
   "metadata": {
    "papermill": {
     "duration": 0.009526,
     "end_time": "2022-12-14T06:28:10.283331",
     "exception": false,
     "start_time": "2022-12-14T06:28:10.273805",
     "status": "completed"
    },
    "tags": []
   },
   "source": [
    "### Test Batch Size & Frames"
   ]
  },
  {
   "cell_type": "code",
   "execution_count": 25,
   "id": "b1d94076",
   "metadata": {
    "execution": {
     "iopub.execute_input": "2022-12-14T06:28:10.303996Z",
     "iopub.status.busy": "2022-12-14T06:28:10.303736Z",
     "iopub.status.idle": "2022-12-14T06:28:10.310530Z",
     "shell.execute_reply": "2022-12-14T06:28:10.309680Z"
    },
    "papermill": {
     "duration": 0.019475,
     "end_time": "2022-12-14T06:28:10.312509",
     "exception": false,
     "start_time": "2022-12-14T06:28:10.293034",
     "status": "completed"
    },
    "tags": []
   },
   "outputs": [],
   "source": [
    "def testBatchSize(batch_size, n_frames):\n",
    "    img_tensor = getImgTensor(n_frames)\n",
    "    print(\"Using frames as\", img_tensor[0])\n",
    "    global callbacks_list\n",
    "    num_epochs = 3\n",
    "    train_generator = generator(train_path, train_doc, batch_size, img_tensor)\n",
    "    val_generator = generator(val_path, val_doc, batch_size, img_tensor)\n",
    "    if (num_train_sequences%batch_size) == 0:\n",
    "        steps_per_epoch = int(num_train_sequences/batch_size)\n",
    "    else:\n",
    "        steps_per_epoch = (num_train_sequences//batch_size) + 1\n",
    "\n",
    "    if (num_val_sequences%batch_size) == 0:\n",
    "        validation_steps = int(num_val_sequences/batch_size)\n",
    "    else:\n",
    "        validation_steps = (num_val_sequences//batch_size) + 1\n",
    "\n",
    "    model = defineModel(img_tensor)\n",
    "    model.fit_generator(train_generator, steps_per_epoch=steps_per_epoch, epochs=num_epochs, verbose=1, \n",
    "                callbacks=callbacks_list, validation_data=val_generator, \n",
    "                validation_steps=validation_steps, class_weight=None, workers=1, initial_epoch=0)"
   ]
  },
  {
   "cell_type": "markdown",
   "id": "c2182e67",
   "metadata": {
    "papermill": {
     "duration": 0.00993,
     "end_time": "2022-12-14T06:28:10.331911",
     "exception": false,
     "start_time": "2022-12-14T06:28:10.321981",
     "status": "completed"
    },
    "tags": []
   },
   "source": [
    "Let us now fit the model. This will start training the model and with the help of the checkpoints, you'll be able to save the model at the end of each epoch."
   ]
  },
  {
   "cell_type": "code",
   "execution_count": 26,
   "id": "0e997875",
   "metadata": {
    "execution": {
     "iopub.execute_input": "2022-12-14T06:28:10.352320Z",
     "iopub.status.busy": "2022-12-14T06:28:10.352060Z",
     "iopub.status.idle": "2022-12-14T06:38:40.314717Z",
     "shell.execute_reply": "2022-12-14T06:38:40.313750Z"
    },
    "papermill": {
     "duration": 629.975672,
     "end_time": "2022-12-14T06:38:40.317342",
     "exception": false,
     "start_time": "2022-12-14T06:28:10.341670",
     "status": "completed"
    },
    "tags": []
   },
   "outputs": [
    {
     "name": "stdout",
     "output_type": "stream",
     "text": [
      "Model: \"conv_3d1\"\n",
      "_________________________________________________________________\n",
      "Layer (type)                 Output Shape              Param #   \n",
      "=================================================================\n",
      "conv3d_3 (Conv3D)            (None, 12, 96, 96, 16)    6016      \n",
      "_________________________________________________________________\n",
      "max_pooling3d_3 (MaxPooling3 (None, 6, 48, 48, 16)     0         \n",
      "_________________________________________________________________\n",
      "batch_normalization_5 (Batch (None, 6, 48, 48, 16)     64        \n",
      "_________________________________________________________________\n",
      "conv3d_4 (Conv3D)            (None, 4, 46, 46, 32)     13856     \n",
      "_________________________________________________________________\n",
      "max_pooling3d_4 (MaxPooling3 (None, 4, 23, 23, 32)     0         \n",
      "_________________________________________________________________\n",
      "batch_normalization_6 (Batch (None, 4, 23, 23, 32)     128       \n",
      "_________________________________________________________________\n",
      "conv3d_5 (Conv3D)            (None, 2, 21, 21, 64)     55360     \n",
      "_________________________________________________________________\n",
      "max_pooling3d_5 (MaxPooling3 (None, 2, 11, 11, 64)     0         \n",
      "_________________________________________________________________\n",
      "batch_normalization_7 (Batch (None, 2, 11, 11, 64)     256       \n",
      "_________________________________________________________________\n",
      "flatten_1 (Flatten)          (None, 15488)             0         \n",
      "_________________________________________________________________\n",
      "dense_3 (Dense)              (None, 128)               1982592   \n",
      "_________________________________________________________________\n",
      "batch_normalization_8 (Batch (None, 128)               512       \n",
      "_________________________________________________________________\n",
      "dropout_2 (Dropout)          (None, 128)               0         \n",
      "_________________________________________________________________\n",
      "dense_4 (Dense)              (None, 64)                8256      \n",
      "_________________________________________________________________\n",
      "batch_normalization_9 (Batch (None, 64)                256       \n",
      "_________________________________________________________________\n",
      "dropout_3 (Dropout)          (None, 64)                0         \n",
      "_________________________________________________________________\n",
      "dense_5 (Dense)              (None, 5)                 325       \n",
      "=================================================================\n",
      "Total params: 2,067,621\n",
      "Trainable params: 2,067,013\n",
      "Non-trainable params: 608\n",
      "_________________________________________________________________\n",
      "None\n",
      "Source path =  /kaggle/input/gesture-recognition/Project_data/train ; batch size = 64\n"
     ]
    },
    {
     "name": "stderr",
     "output_type": "stream",
     "text": [
      "2022-12-14 06:28:22.020153: I tensorflow/compiler/mlir/mlir_graph_optimization_pass.cc:185] None of the MLIR Optimization Passes are enabled (registered 2)\n"
     ]
    },
    {
     "name": "stdout",
     "output_type": "stream",
     "text": [
      "Epoch 1/20\n"
     ]
    },
    {
     "name": "stderr",
     "output_type": "stream",
     "text": [
      "2022-12-14 06:28:24.116999: I tensorflow/stream_executor/cuda/cuda_dnn.cc:369] Loaded cuDNN version 8005\n"
     ]
    },
    {
     "name": "stdout",
     "output_type": "stream",
     "text": [
      "11/11 [==============================] - ETA: 0s - loss: 1.4581 - categorical_accuracy: 0.4525 Source path =  /kaggle/input/gesture-recognition/Project_data/val ; batch size = 64\n",
      "11/11 [==============================] - 133s 12s/step - loss: 1.4581 - categorical_accuracy: 0.4525 - val_loss: 7.1231 - val_categorical_accuracy: 0.2400\n",
      "Epoch 2/20\n",
      "11/11 [==============================] - 41s 4s/step - loss: 1.0661 - categorical_accuracy: 0.6166 - val_loss: 8.6033 - val_categorical_accuracy: 0.2344\n",
      "Epoch 3/20\n",
      "11/11 [==============================] - 39s 4s/step - loss: 1.0450 - categorical_accuracy: 0.5968 - val_loss: 7.7592 - val_categorical_accuracy: 0.2321\n",
      "Epoch 4/20\n",
      "11/11 [==============================] - 35s 4s/step - loss: 1.0008 - categorical_accuracy: 0.5880 - val_loss: 6.4306 - val_categorical_accuracy: 0.2500\n",
      "Epoch 5/20\n",
      "11/11 [==============================] - 29s 3s/step - loss: 0.9719 - categorical_accuracy: 0.6220 - val_loss: 4.4556 - val_categorical_accuracy: 0.1875\n",
      "Epoch 6/20\n",
      "11/11 [==============================] - 25s 2s/step - loss: 0.9033 - categorical_accuracy: 0.6699 - val_loss: 2.4333 - val_categorical_accuracy: 0.3750\n",
      "Epoch 7/20\n",
      "11/11 [==============================] - 26s 3s/step - loss: 0.8920 - categorical_accuracy: 0.6305 - val_loss: 3.1602 - val_categorical_accuracy: 0.1250\n",
      "Epoch 8/20\n",
      "11/11 [==============================] - 22s 2s/step - loss: 0.6703 - categorical_accuracy: 0.7433 - val_loss: 5.5130 - val_categorical_accuracy: 0.0000e+00\n",
      "Epoch 9/20\n",
      "11/11 [==============================] - 22s 2s/step - loss: 0.7933 - categorical_accuracy: 0.6524 - val_loss: 2.2961 - val_categorical_accuracy: 0.3750\n",
      "Epoch 10/20\n",
      "11/11 [==============================] - 22s 2s/step - loss: 0.8222 - categorical_accuracy: 0.6952 - val_loss: 6.0842 - val_categorical_accuracy: 0.0000e+00\n",
      "Epoch 11/20\n",
      "11/11 [==============================] - 21s 2s/step - loss: 0.7008 - categorical_accuracy: 0.7380 - val_loss: 2.8069 - val_categorical_accuracy: 0.3750\n",
      "Epoch 12/20\n",
      "11/11 [==============================] - 23s 2s/step - loss: 0.7394 - categorical_accuracy: 0.7380 - val_loss: 7.4668 - val_categorical_accuracy: 0.1250\n",
      "Epoch 13/20\n",
      "11/11 [==============================] - 23s 2s/step - loss: 0.6138 - categorical_accuracy: 0.7540 - val_loss: 4.3752 - val_categorical_accuracy: 0.3750\n",
      "\n",
      "Epoch 00013: ReduceLROnPlateau reducing learning rate to 0.00020000000949949026.\n",
      "Epoch 14/20\n",
      "11/11 [==============================] - 24s 2s/step - loss: 0.5764 - categorical_accuracy: 0.7754 - val_loss: 3.5315 - val_categorical_accuracy: 0.2500\n",
      "Epoch 15/20\n",
      "11/11 [==============================] - 22s 2s/step - loss: 0.4781 - categorical_accuracy: 0.7914 - val_loss: 3.4234 - val_categorical_accuracy: 0.2500\n",
      "Epoch 16/20\n",
      "11/11 [==============================] - 22s 2s/step - loss: 0.4799 - categorical_accuracy: 0.8770 - val_loss: 3.1501 - val_categorical_accuracy: 0.2500\n",
      "Epoch 17/20\n",
      "11/11 [==============================] - 23s 2s/step - loss: 0.5013 - categorical_accuracy: 0.8182 - val_loss: 2.1133 - val_categorical_accuracy: 0.5000\n",
      "Epoch 18/20\n",
      "11/11 [==============================] - 22s 2s/step - loss: 0.4576 - categorical_accuracy: 0.8449 - val_loss: 2.3233 - val_categorical_accuracy: 0.2500\n",
      "Epoch 19/20\n",
      "11/11 [==============================] - 22s 2s/step - loss: 0.4904 - categorical_accuracy: 0.8289 - val_loss: 1.4705 - val_categorical_accuracy: 0.3750\n",
      "Epoch 20/20\n",
      "11/11 [==============================] - 22s 2s/step - loss: 0.4823 - categorical_accuracy: 0.7914 - val_loss: 0.9420 - val_categorical_accuracy: 0.6250\n"
     ]
    }
   ],
   "source": [
    "n_frames = 16\n",
    "num_epochs = 20\n",
    "batch_size = 64\n",
    "\n",
    "img_tensor = getImgTensor(n_frames)\n",
    "train_generator = generator(train_path, train_doc, batch_size, img_tensor)\n",
    "val_generator = generator(val_path, val_doc, batch_size, img_tensor)\n",
    "\n",
    "if (num_train_sequences%batch_size) == 0:\n",
    "    steps_per_epoch = int(num_train_sequences/batch_size)\n",
    "else:\n",
    "    steps_per_epoch = (num_train_sequences//batch_size) + 1\n",
    "\n",
    "if (num_val_sequences%batch_size) == 0:\n",
    "    validation_steps = int(num_val_sequences/batch_size)\n",
    "else:\n",
    "    validation_steps = (num_val_sequences//batch_size) + 1\n",
    "    \n",
    "inputShape = (len(img_tensor[0]), img_tensor[1], img_tensor[2], img_tensor[3])\n",
    "\n",
    "model1 = Sequential([\n",
    "    Conv3D(16, make3dFilter(5), activation='relu', input_shape=inputShape),\n",
    "    MaxPooling3D(make3dFilter(2), padding='same'),\n",
    "    BatchNormalization(),\n",
    "\n",
    "    Conv3D(32, make3dFilter(3), activation='relu'),\n",
    "    MaxPooling3D(pool_size=(1,2,2), padding='same'),\n",
    "    BatchNormalization(),\n",
    "\n",
    "    Conv3D(64, make3dFilter(3), activation='relu'),\n",
    "    MaxPooling3D(pool_size=(1,2,2), padding='same'),\n",
    "    BatchNormalization(),\n",
    "\n",
    "    Flatten(),\n",
    "    Dense(128, activation='relu'),\n",
    "    BatchNormalization(),\n",
    "    Dropout(0.25),\n",
    "\n",
    "    Dense(64, activation='relu'),\n",
    "    BatchNormalization(),\n",
    "    Dropout(0.25),\n",
    "\n",
    "    Dense(5, activation='softmax')\n",
    "], name=\"conv_3d1\")\n",
    "model1.compile(optimizer=Adam(), loss='categorical_crossentropy', metrics=['categorical_accuracy'])\n",
    "print(model1.summary())\n",
    "\n",
    "model1_history = model1.fit_generator(train_generator, steps_per_epoch=steps_per_epoch, epochs=num_epochs, verbose=1, \n",
    "            callbacks=callbacks_list, validation_data=val_generator, \n",
    "            validation_steps=validation_steps, class_weight=None, workers=1, initial_epoch=0)"
   ]
  },
  {
   "cell_type": "code",
   "execution_count": 27,
   "id": "8ca866b9",
   "metadata": {
    "execution": {
     "iopub.execute_input": "2022-12-14T06:38:40.365136Z",
     "iopub.status.busy": "2022-12-14T06:38:40.364197Z",
     "iopub.status.idle": "2022-12-14T06:38:40.680971Z",
     "shell.execute_reply": "2022-12-14T06:38:40.679762Z"
    },
    "papermill": {
     "duration": 0.342389,
     "end_time": "2022-12-14T06:38:40.683113",
     "exception": false,
     "start_time": "2022-12-14T06:38:40.340724",
     "status": "completed"
    },
    "tags": []
   },
   "outputs": [
    {
     "data": {
      "image/png": "[encoded data removed]",
      "text/plain": [
       "<Figure size 1080x288 with 2 Axes>"
      ]
     },
     "metadata": {
      "needs_background": "light"
     },
     "output_type": "display_data"
    },
    {
     "name": "stdout",
     "output_type": "stream",
     "text": [
      "Max. Training Accuracy 0.8770053386688232\n",
      "Max. Validaiton Accuracy 0.625\n"
     ]
    }
   ],
   "source": [
    "plotModelHistory(model1_history)"
   ]
  },
  {
   "cell_type": "markdown",
   "id": "b5e5895d",
   "metadata": {
    "papermill": {
     "duration": 0.022911,
     "end_time": "2022-12-14T06:38:40.729875",
     "exception": false,
     "start_time": "2022-12-14T06:38:40.706964",
     "status": "completed"
    },
    "tags": []
   },
   "source": [
    "### Model 6: Switching Model architecture to Conv2D+LSTM"
   ]
  },
  {
   "cell_type": "code",
   "execution_count": 28,
   "id": "85538a92",
   "metadata": {
    "execution": {
     "iopub.execute_input": "2022-12-14T06:38:40.778987Z",
     "iopub.status.busy": "2022-12-14T06:38:40.777766Z",
     "iopub.status.idle": "2022-12-14T07:08:11.963578Z",
     "shell.execute_reply": "2022-12-14T07:08:11.962508Z"
    },
    "papermill": {
     "duration": 1771.213029,
     "end_time": "2022-12-14T07:08:11.966135",
     "exception": false,
     "start_time": "2022-12-14T06:38:40.753106",
     "status": "completed"
    },
    "tags": []
   },
   "outputs": [
    {
     "name": "stdout",
     "output_type": "stream",
     "text": [
      "Model: \"conv_2d_lstm\"\n",
      "_________________________________________________________________\n",
      "Layer (type)                 Output Shape              Param #   \n",
      "=================================================================\n",
      "time_distributed (TimeDistri (None, 20, 100, 100, 16)  448       \n",
      "_________________________________________________________________\n",
      "time_distributed_1 (TimeDist (None, 20, 100, 100, 16)  64        \n",
      "_________________________________________________________________\n",
      "time_distributed_2 (TimeDist (None, 20, 50, 50, 16)    0         \n",
      "_________________________________________________________________\n",
      "time_distributed_3 (TimeDist (None, 20, 50, 50, 32)    4640      \n",
      "_________________________________________________________________\n",
      "time_distributed_4 (TimeDist (None, 20, 50, 50, 32)    128       \n",
      "_________________________________________________________________\n",
      "time_distributed_5 (TimeDist (None, 20, 25, 25, 32)    0         \n",
      "_________________________________________________________________\n",
      "time_distributed_6 (TimeDist (None, 20, 25, 25, 64)    18496     \n",
      "_________________________________________________________________\n",
      "time_distributed_7 (TimeDist (None, 20, 25, 25, 64)    256       \n",
      "_________________________________________________________________\n",
      "time_distributed_8 (TimeDist (None, 20, 12, 12, 64)    0         \n",
      "_________________________________________________________________\n",
      "time_distributed_9 (TimeDist (None, 20, 12, 12, 128)   73856     \n",
      "_________________________________________________________________\n",
      "time_distributed_10 (TimeDis (None, 20, 12, 12, 128)   512       \n",
      "_________________________________________________________________\n",
      "time_distributed_11 (TimeDis (None, 20, 6, 6, 128)     0         \n",
      "_________________________________________________________________\n",
      "time_distributed_12 (TimeDis (None, 20, 6, 6, 256)     295168    \n",
      "_________________________________________________________________\n",
      "time_distributed_13 (TimeDis (None, 20, 6, 6, 256)     1024      \n",
      "_________________________________________________________________\n",
      "time_distributed_14 (TimeDis (None, 20, 3, 3, 256)     0         \n",
      "_________________________________________________________________\n",
      "time_distributed_15 (TimeDis (None, 20, 2304)          0         \n",
      "_________________________________________________________________\n",
      "lstm (LSTM)                  (None, 256)               2622464   \n",
      "_________________________________________________________________\n",
      "dropout_4 (Dropout)          (None, 256)               0         \n",
      "_________________________________________________________________\n",
      "dense_6 (Dense)              (None, 256)               65792     \n",
      "_________________________________________________________________\n",
      "dropout_5 (Dropout)          (None, 256)               0         \n",
      "_________________________________________________________________\n",
      "dense_7 (Dense)              (None, 5)                 1285      \n",
      "=================================================================\n",
      "Total params: 3,084,133\n",
      "Trainable params: 3,083,141\n",
      "Non-trainable params: 992\n",
      "_________________________________________________________________\n",
      "None\n",
      "Source path =  /kaggle/input/gesture-recognition/Project_data/train ; batch size = 32\n",
      "Epoch 1/30\n",
      "21/21 [==============================] - ETA: 0s - loss: 1.3453 - categorical_accuracy: 0.4299Source path =  /kaggle/input/gesture-recognition/Project_data/val ; batch size = 32\n",
      "21/21 [==============================] - 134s 7s/step - loss: 1.3453 - categorical_accuracy: 0.4299 - val_loss: 1.7116 - val_categorical_accuracy: 0.2500\n",
      "Epoch 2/30\n",
      "21/21 [==============================] - 71s 4s/step - loss: 1.0980 - categorical_accuracy: 0.5404 - val_loss: 2.1374 - val_categorical_accuracy: 0.1875\n",
      "Epoch 3/30\n",
      "21/21 [==============================] - 62s 3s/step - loss: 1.1030 - categorical_accuracy: 0.5269 - val_loss: 2.5060 - val_categorical_accuracy: 0.1250\n",
      "Epoch 4/30\n",
      "21/21 [==============================] - 60s 3s/step - loss: 1.0054 - categorical_accuracy: 0.5965 - val_loss: 3.1247 - val_categorical_accuracy: 0.1250\n",
      "Epoch 5/30\n",
      "21/21 [==============================] - 55s 3s/step - loss: 0.9475 - categorical_accuracy: 0.6218 - val_loss: 1.4888 - val_categorical_accuracy: 0.4375\n",
      "Epoch 6/30\n",
      "21/21 [==============================] - 53s 3s/step - loss: 0.9229 - categorical_accuracy: 0.6134 - val_loss: 3.1387 - val_categorical_accuracy: 0.2500\n",
      "Epoch 7/30\n",
      "21/21 [==============================] - 53s 3s/step - loss: 0.8581 - categorical_accuracy: 0.6891 - val_loss: 3.1799 - val_categorical_accuracy: 0.0625\n",
      "Epoch 8/30\n",
      "21/21 [==============================] - 55s 3s/step - loss: 0.7833 - categorical_accuracy: 0.6667 - val_loss: 3.8280 - val_categorical_accuracy: 0.3125\n",
      "Epoch 9/30\n",
      "21/21 [==============================] - 54s 3s/step - loss: 0.6368 - categorical_accuracy: 0.7479 - val_loss: 3.7020 - val_categorical_accuracy: 0.1875\n",
      "\n",
      "Epoch 00009: ReduceLROnPlateau reducing learning rate to 0.00020000000949949026.\n",
      "Epoch 10/30\n",
      "21/21 [==============================] - 54s 3s/step - loss: 0.6492 - categorical_accuracy: 0.7395 - val_loss: 3.3591 - val_categorical_accuracy: 0.1250\n",
      "Epoch 11/30\n",
      "21/21 [==============================] - 55s 3s/step - loss: 0.5008 - categorical_accuracy: 0.8151 - val_loss: 3.7492 - val_categorical_accuracy: 0.1250\n",
      "Epoch 12/30\n",
      "21/21 [==============================] - 53s 3s/step - loss: 0.4123 - categorical_accuracy: 0.8599 - val_loss: 2.6141 - val_categorical_accuracy: 0.2500\n",
      "Epoch 13/30\n",
      "21/21 [==============================] - 54s 3s/step - loss: 0.4221 - categorical_accuracy: 0.8459 - val_loss: 5.0629 - val_categorical_accuracy: 0.1250\n",
      "\n",
      "Epoch 00013: ReduceLROnPlateau reducing learning rate to 4.0000001899898055e-05.\n",
      "Epoch 14/30\n",
      "21/21 [==============================] - 55s 3s/step - loss: 0.3585 - categorical_accuracy: 0.8683 - val_loss: 3.7193 - val_categorical_accuracy: 0.1250\n",
      "Epoch 15/30\n",
      "21/21 [==============================] - 53s 3s/step - loss: 0.3413 - categorical_accuracy: 0.8768 - val_loss: 2.5716 - val_categorical_accuracy: 0.2500\n",
      "Epoch 16/30\n",
      "21/21 [==============================] - 52s 3s/step - loss: 0.3669 - categorical_accuracy: 0.8683 - val_loss: 2.3182 - val_categorical_accuracy: 0.4375\n",
      "Epoch 17/30\n",
      "21/21 [==============================] - 55s 3s/step - loss: 0.3350 - categorical_accuracy: 0.8796 - val_loss: 3.0282 - val_categorical_accuracy: 0.3125\n",
      "\n",
      "Epoch 00017: ReduceLROnPlateau reducing learning rate to 8.000000525498762e-06.\n",
      "Epoch 18/30\n",
      "21/21 [==============================] - 54s 3s/step - loss: 0.3200 - categorical_accuracy: 0.8936 - val_loss: 2.1382 - val_categorical_accuracy: 0.4375\n",
      "Epoch 19/30\n",
      "21/21 [==============================] - 55s 3s/step - loss: 0.2956 - categorical_accuracy: 0.9104 - val_loss: 3.1403 - val_categorical_accuracy: 0.1875\n",
      "Epoch 20/30\n",
      "21/21 [==============================] - 50s 3s/step - loss: 0.3645 - categorical_accuracy: 0.8852 - val_loss: 3.1694 - val_categorical_accuracy: 0.3750\n",
      "Epoch 21/30\n",
      "21/21 [==============================] - 56s 3s/step - loss: 0.2738 - categorical_accuracy: 0.8992 - val_loss: 2.5566 - val_categorical_accuracy: 0.3750\n",
      "\n",
      "Epoch 00021: ReduceLROnPlateau reducing learning rate to 1.6000001778593287e-06.\n",
      "Epoch 22/30\n",
      "21/21 [==============================] - 52s 3s/step - loss: 0.3039 - categorical_accuracy: 0.9048 - val_loss: 1.8442 - val_categorical_accuracy: 0.5625\n",
      "Epoch 23/30\n",
      "21/21 [==============================] - 53s 3s/step - loss: 0.3218 - categorical_accuracy: 0.8880 - val_loss: 2.2470 - val_categorical_accuracy: 0.5625\n",
      "Epoch 24/30\n",
      "21/21 [==============================] - 54s 3s/step - loss: 0.3112 - categorical_accuracy: 0.9076 - val_loss: 2.4785 - val_categorical_accuracy: 0.3125\n",
      "Epoch 25/30\n",
      "21/21 [==============================] - 54s 3s/step - loss: 0.3191 - categorical_accuracy: 0.8852 - val_loss: 1.4564 - val_categorical_accuracy: 0.6875\n",
      "Epoch 26/30\n",
      "21/21 [==============================] - 55s 3s/step - loss: 0.2747 - categorical_accuracy: 0.9104 - val_loss: 1.2608 - val_categorical_accuracy: 0.5000\n",
      "Epoch 27/30\n",
      "21/21 [==============================] - 54s 3s/step - loss: 0.2725 - categorical_accuracy: 0.9160 - val_loss: 1.7062 - val_categorical_accuracy: 0.5000\n",
      "Epoch 28/30\n",
      "21/21 [==============================] - 54s 3s/step - loss: 0.3341 - categorical_accuracy: 0.9048 - val_loss: 1.1137 - val_categorical_accuracy: 0.5625\n",
      "Epoch 29/30\n",
      "21/21 [==============================] - 52s 3s/step - loss: 0.2860 - categorical_accuracy: 0.9132 - val_loss: 1.3971 - val_categorical_accuracy: 0.5000\n",
      "Epoch 30/30\n",
      "21/21 [==============================] - 53s 3s/step - loss: 0.3004 - categorical_accuracy: 0.9104 - val_loss: 0.5448 - val_categorical_accuracy: 0.7500\n"
     ]
    }
   ],
   "source": [
    "n_frames = 20\n",
    "num_epochs = 30\n",
    "batch_size = 32\n",
    "\n",
    "img_tensor = getImgTensor(n_frames)\n",
    "train_generator = generator(train_path, train_doc, batch_size, img_tensor)\n",
    "val_generator = generator(val_path, val_doc, batch_size, img_tensor)\n",
    "\n",
    "if (num_train_sequences%batch_size) == 0:\n",
    "    steps_per_epoch = int(num_train_sequences/batch_size)\n",
    "else:\n",
    "    steps_per_epoch = (num_train_sequences//batch_size) + 1\n",
    "\n",
    "if (num_val_sequences%batch_size) == 0:\n",
    "    validation_steps = int(num_val_sequences/batch_size)\n",
    "else:\n",
    "    validation_steps = (num_val_sequences//batch_size) + 1\n",
    "    \n",
    "inputShape = (len(img_tensor[0]), img_tensor[1], img_tensor[2], img_tensor[3])\n",
    "\n",
    "model6 = Sequential([\n",
    "    TimeDistributed(Conv2D(16, make2dFilter(3), padding='same', activation='relu'), input_shape=inputShape),\n",
    "    TimeDistributed(BatchNormalization()),\n",
    "    TimeDistributed(MaxPooling2D(make2dFilter(2))),\n",
    "\n",
    "    TimeDistributed(Conv2D(32, make2dFilter(3), padding='same', activation='relu')),\n",
    "    TimeDistributed(BatchNormalization()),\n",
    "    TimeDistributed(MaxPooling2D(make2dFilter(2))),\n",
    "\n",
    "    TimeDistributed(Conv2D(64, make2dFilter(3), padding='same', activation='relu')),\n",
    "    TimeDistributed(BatchNormalization()),\n",
    "    TimeDistributed(MaxPooling2D(make2dFilter(2))),\n",
    "\n",
    "    TimeDistributed(Conv2D(128, make2dFilter(3), padding='same', activation='relu')),\n",
    "    TimeDistributed(BatchNormalization()),\n",
    "    TimeDistributed(MaxPooling2D(make2dFilter(2))),\n",
    "\n",
    "    TimeDistributed(Conv2D(256, make2dFilter(3), padding='same', activation='relu')),\n",
    "    TimeDistributed(BatchNormalization()),\n",
    "    TimeDistributed(MaxPooling2D(make2dFilter(2))),\n",
    "\n",
    "    TimeDistributed(Flatten()),\n",
    "    LSTM(256),\n",
    "    Dropout(0.2),\n",
    "\n",
    "    Dense(256, activation='relu'),\n",
    "    Dropout(0.2),\n",
    "\n",
    "    Dense(5, activation='softmax')\n",
    "], name=\"conv_2d_lstm\")\n",
    "model6.compile(optimizer=Adam(), loss='categorical_crossentropy', metrics=['categorical_accuracy'])\n",
    "print(model6.summary())\n",
    "\n",
    "model6_history = model6.fit_generator(train_generator, steps_per_epoch=steps_per_epoch, epochs=num_epochs, verbose=1, \n",
    "            callbacks=callbacks_list, validation_data=val_generator, \n",
    "            validation_steps=validation_steps, class_weight=None, workers=1, initial_epoch=0)"
   ]
  },
  {
   "cell_type": "code",
   "execution_count": 29,
   "id": "b00ba32f",
   "metadata": {
    "execution": {
     "iopub.execute_input": "2022-12-14T07:08:12.082201Z",
     "iopub.status.busy": "2022-12-14T07:08:12.081848Z",
     "iopub.status.idle": "2022-12-14T07:08:12.379730Z",
     "shell.execute_reply": "2022-12-14T07:08:12.378768Z"
    },
    "papermill": {
     "duration": 0.357935,
     "end_time": "2022-12-14T07:08:12.382224",
     "exception": false,
     "start_time": "2022-12-14T07:08:12.024289",
     "status": "completed"
    },
    "tags": []
   },
   "outputs": [
    {
     "data": {
      "image/png": "[encoded data removed]",
      "text/plain": [
       "<Figure size 1080x288 with 2 Axes>"
      ]
     },
     "metadata": {
      "needs_background": "light"
     },
     "output_type": "display_data"
    },
    {
     "name": "stdout",
     "output_type": "stream",
     "text": [
      "Max. Training Accuracy 0.9159663915634155\n",
      "Max. Validaiton Accuracy 0.75\n"
     ]
    }
   ],
   "source": [
    "plotModelHistory(model6_history)"
   ]
  },
  {
   "cell_type": "code",
   "execution_count": null,
   "id": "644b89a6",
   "metadata": {
    "papermill": {
     "duration": 0.056452,
     "end_time": "2022-12-14T07:08:12.496036",
     "exception": false,
     "start_time": "2022-12-14T07:08:12.439584",
     "status": "completed"
    },
    "tags": []
   },
   "outputs": [],
   "source": []
  }
 ],
 "metadata": {
  "kernelspec": {
   "display_name": "Python 3",
   "language": "python",
   "name": "python3"
  },
  "language_info": {
   "codemirror_mode": {
    "name": "ipython",
    "version": 3
   },
   "file_extension": ".py",
   "mimetype": "text/x-python",
   "name": "python",
   "nbconvert_exporter": "python",
   "pygments_lexer": "ipython3",
   "version": "3.7.12"
  },
  "papermill": {
   "default_parameters": {},
   "duration": 2453.338451,
   "end_time": "2022-12-14T07:08:15.819038",
   "environment_variables": {},
   "exception": null,
   "input_path": "__notebook__.ipynb",
   "output_path": "__notebook__.ipynb",
   "parameters": {},
   "start_time": "2022-12-14T06:27:22.480587",
   "version": "2.3.4"
  }
 },
 "nbformat": 4,
 "nbformat_minor": 5
}
