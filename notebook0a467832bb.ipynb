{
 "cells": [
  {
   "cell_type": "markdown",
   "id": "9b646ec4",
   "metadata": {
    "papermill": {
     "duration": 0.008569,
     "end_time": "2022-12-11T15:24:57.929584",
     "exception": false,
     "start_time": "2022-12-11T15:24:57.921015",
     "status": "completed"
    },
    "tags": []
   },
   "source": [
    "# Gesture Recognition\n",
    "In this group project, you are going to build a 3D Conv model that will be able to predict the 5 gestures correctly. Please import the following libraries to get started."
   ]
  },
  {
   "cell_type": "code",
   "execution_count": 1,
   "id": "f635b599",
   "metadata": {
    "execution": {
     "iopub.execute_input": "2022-12-11T15:24:57.942362Z",
     "iopub.status.busy": "2022-12-11T15:24:57.941935Z",
     "iopub.status.idle": "2022-12-11T15:25:17.040810Z",
     "shell.execute_reply": "2022-12-11T15:25:17.039391Z"
    },
    "papermill": {
     "duration": 19.107472,
     "end_time": "2022-12-11T15:25:17.043026",
     "exception": false,
     "start_time": "2022-12-11T15:24:57.935554",
     "status": "completed"
    },
    "tags": []
   },
   "outputs": [
    {
     "name": "stdout",
     "output_type": "stream",
     "text": [
      "Collecting scipy==1.2\r\n",
      "  Downloading scipy-1.2.0-cp37-cp37m-manylinux1_x86_64.whl (26.6 MB)\r\n",
      "\u001b[2K     \u001b[90m━━━━━━━━━━━━━━━━━━━━━━━━━━━━━━━━━━━━━━━━\u001b[0m \u001b[32m26.6/26.6 MB\u001b[0m \u001b[31m12.4 MB/s\u001b[0m eta \u001b[36m0:00:00\u001b[0m\r\n",
      "\u001b[?25hRequirement already satisfied: numpy>=1.8.2 in /opt/conda/lib/python3.7/site-packages (from scipy==1.2) (1.21.6)\r\n",
      "Installing collected packages: scipy\r\n",
      "  Attempting uninstall: scipy\r\n",
      "    Found existing installation: scipy 1.7.3\r\n",
      "    Uninstalling scipy-1.7.3:\r\n",
      "      Successfully uninstalled scipy-1.7.3\r\n",
      "\u001b[31mERROR: pip's dependency resolver does not currently take into account all the packages that are installed. This behaviour is the source of the following dependency conflicts.\r\n",
      "woodwork 0.16.4 requires scipy>=1.4.0, but you have scipy 1.2.0 which is incompatible.\r\n",
      "tpot 0.11.7 requires scipy>=1.3.1, but you have scipy 1.2.0 which is incompatible.\r\n",
      "stumpy 1.11.1 requires scipy>=1.5, but you have scipy 1.2.0 which is incompatible.\r\n",
      "statsmodels 0.13.2 requires scipy>=1.3, but you have scipy 1.2.0 which is incompatible.\r\n",
      "sklearn-pandas 2.2.0 requires scipy>=1.5.1, but you have scipy 1.2.0 which is incompatible.\r\n",
      "scikit-image 0.19.3 requires scipy>=1.4.1, but you have scipy 1.2.0 which is incompatible.\r\n",
      "pymc3 3.11.5 requires scipy<1.8.0,>=1.7.3, but you have scipy 1.2.0 which is incompatible.\r\n",
      "plotnine 0.8.0 requires scipy>=1.5.0, but you have scipy 1.2.0 which is incompatible.\r\n",
      "phik 0.12.2 requires scipy>=1.5.2, but you have scipy 1.2.0 which is incompatible.\r\n",
      "pdpbox 0.2.1 requires matplotlib==3.1.1, but you have matplotlib 3.5.3 which is incompatible.\r\n",
      "pandas-profiling 3.1.0 requires markupsafe~=2.0.1, but you have markupsafe 2.1.1 which is incompatible.\r\n",
      "pandas-profiling 3.1.0 requires scipy>=1.4.1, but you have scipy 1.2.0 which is incompatible.\r\n",
      "optuna 3.0.3 requires scipy<1.9.0,>=1.7.0, but you have scipy 1.2.0 which is incompatible.\r\n",
      "nilearn 0.9.2 requires scipy>=1.5, but you have scipy 1.2.0 which is incompatible.\r\n",
      "mlxtend 0.21.0 requires scipy>=1.2.1, but you have scipy 1.2.0 which is incompatible.\r\n",
      "matrixprofile 1.1.10 requires scipy<2.0.0,>=1.3.2, but you have scipy 1.2.0 which is incompatible.\r\n",
      "jaxlib 0.3.22+cuda11.cudnn805 requires scipy>=1.5, but you have scipy 1.2.0 which is incompatible.\r\n",
      "jax 0.3.23 requires scipy>=1.5, but you have scipy 1.2.0 which is incompatible.\r\n",
      "giddy 2.3.3 requires scipy>=1.3.0, but you have scipy 1.2.0 which is incompatible.\r\n",
      "featuretools 1.11.1 requires scipy>=1.3.3, but you have scipy 1.2.0 which is incompatible.\r\n",
      "allennlp 2.10.1 requires scipy>=1.7.3, but you have scipy 1.2.0 which is incompatible.\u001b[0m\u001b[31m\r\n",
      "\u001b[0mSuccessfully installed scipy-1.2.0\r\n",
      "\u001b[33mWARNING: Running pip as the 'root' user can result in broken permissions and conflicting behaviour with the system package manager. It is recommended to use a virtual environment instead: https://pip.pypa.io/warnings/venv\u001b[0m\u001b[33m\r\n",
      "\u001b[0mNote: you may need to restart the kernel to use updated packages.\n"
     ]
    }
   ],
   "source": [
    "pip install scipy==1.2\n"
   ]
  },
  {
   "cell_type": "code",
   "execution_count": 2,
   "id": "99330a70",
   "metadata": {
    "execution": {
     "iopub.execute_input": "2022-12-11T15:25:17.062330Z",
     "iopub.status.busy": "2022-12-11T15:25:17.061968Z",
     "iopub.status.idle": "2022-12-11T15:25:17.193291Z",
     "shell.execute_reply": "2022-12-11T15:25:17.191985Z"
    },
    "papermill": {
     "duration": 0.143609,
     "end_time": "2022-12-11T15:25:17.195929",
     "exception": false,
     "start_time": "2022-12-11T15:25:17.052320",
     "status": "completed"
    },
    "tags": []
   },
   "outputs": [],
   "source": [
    "import numpy as np\n",
    "import os\n",
    "from scipy.misc import imread, imresize\n",
    "import datetime\n",
    "import os"
   ]
  },
  {
   "cell_type": "code",
   "execution_count": 3,
   "id": "ab8a56d8",
   "metadata": {
    "execution": {
     "iopub.execute_input": "2022-12-11T15:25:17.228219Z",
     "iopub.status.busy": "2022-12-11T15:25:17.227907Z",
     "iopub.status.idle": "2022-12-11T15:25:17.235734Z",
     "shell.execute_reply": "2022-12-11T15:25:17.234825Z"
    },
    "papermill": {
     "duration": 0.020116,
     "end_time": "2022-12-11T15:25:17.237726",
     "exception": false,
     "start_time": "2022-12-11T15:25:17.217610",
     "status": "completed"
    },
    "tags": []
   },
   "outputs": [
    {
     "data": {
      "text/plain": [
       "'1.2.0'"
      ]
     },
     "execution_count": 3,
     "metadata": {},
     "output_type": "execute_result"
    }
   ],
   "source": [
    "import scipy\n",
    "scipy.__version__\n"
   ]
  },
  {
   "cell_type": "code",
   "execution_count": 4,
   "id": "745ac769",
   "metadata": {
    "execution": {
     "iopub.execute_input": "2022-12-11T15:25:17.256813Z",
     "iopub.status.busy": "2022-12-11T15:25:17.256560Z",
     "iopub.status.idle": "2022-12-11T15:25:17.319843Z",
     "shell.execute_reply": "2022-12-11T15:25:17.319037Z"
    },
    "papermill": {
     "duration": 0.075669,
     "end_time": "2022-12-11T15:25:17.321937",
     "exception": false,
     "start_time": "2022-12-11T15:25:17.246268",
     "status": "completed"
    },
    "tags": []
   },
   "outputs": [],
   "source": [
    "import imageio # using as an alternative of imread as it is deprecated\n",
    "from PIL import Image # using as an alternative of imread as it is deprecated\n",
    "\n",
    "import matplotlib.pyplot as plt\n",
    "%matplotlib inline\n",
    "\n",
    "import warnings\n",
    "warnings.filterwarnings('ignore')"
   ]
  },
  {
   "cell_type": "markdown",
   "id": "158dab85",
   "metadata": {
    "papermill": {
     "duration": 0.008792,
     "end_time": "2022-12-11T15:25:17.339322",
     "exception": false,
     "start_time": "2022-12-11T15:25:17.330530",
     "status": "completed"
    },
    "tags": []
   },
   "source": [
    "Note: \n",
    "\n",
    "scipy.__version__\n",
    "'1.7.3'\n",
    "ImportError: cannot import name 'imread' from 'scipy.misc'\n",
    "\n",
    "scipy is using old version then run the below cmd and then restart kernal\n",
    "\n",
    "pip install scipy==1.2\n",
    "\n",
    "scipy.__version__\n",
    "'1.2.0'"
   ]
  },
  {
   "cell_type": "markdown",
   "id": "7d43445b",
   "metadata": {
    "papermill": {
     "duration": 0.008353,
     "end_time": "2022-12-11T15:25:17.356180",
     "exception": false,
     "start_time": "2022-12-11T15:25:17.347827",
     "status": "completed"
    },
    "tags": []
   },
   "source": [
    "We set the random seed so that the results don't vary drastically."
   ]
  },
  {
   "cell_type": "code",
   "execution_count": 5,
   "id": "550e7ab3",
   "metadata": {
    "execution": {
     "iopub.execute_input": "2022-12-11T15:25:17.374970Z",
     "iopub.status.busy": "2022-12-11T15:25:17.374144Z",
     "iopub.status.idle": "2022-12-11T15:25:21.556648Z",
     "shell.execute_reply": "2022-12-11T15:25:21.555657Z"
    },
    "papermill": {
     "duration": 4.19433,
     "end_time": "2022-12-11T15:25:21.559086",
     "exception": false,
     "start_time": "2022-12-11T15:25:17.364756",
     "status": "completed"
    },
    "tags": []
   },
   "outputs": [],
   "source": [
    "np.random.seed(30)\n",
    "import random as rn\n",
    "rn.seed(30)\n",
    "from keras import backend as K\n",
    "import tensorflow as tf\n",
    "#tf.set_random_seed(30)\n",
    "tf.random.set_seed(30)"
   ]
  },
  {
   "cell_type": "markdown",
   "id": "309c5a74",
   "metadata": {
    "papermill": {
     "duration": 0.008635,
     "end_time": "2022-12-11T15:25:21.577025",
     "exception": false,
     "start_time": "2022-12-11T15:25:21.568390",
     "status": "completed"
    },
    "tags": []
   },
   "source": [
    "In this block, you read the folder names for training and validation. You also set the `batch_size` here. Note that you set the batch size in such a way that you are able to use the GPU in full capacity. You keep increasing the batch size until the machine throws an error."
   ]
  },
  {
   "cell_type": "code",
   "execution_count": 6,
   "id": "28e1cb66",
   "metadata": {
    "execution": {
     "iopub.execute_input": "2022-12-11T15:25:21.596216Z",
     "iopub.status.busy": "2022-12-11T15:25:21.595655Z",
     "iopub.status.idle": "2022-12-11T15:25:21.615403Z",
     "shell.execute_reply": "2022-12-11T15:25:21.614573Z"
    },
    "papermill": {
     "duration": 0.031673,
     "end_time": "2022-12-11T15:25:21.617414",
     "exception": false,
     "start_time": "2022-12-11T15:25:21.585741",
     "status": "completed"
    },
    "tags": []
   },
   "outputs": [],
   "source": [
    "train_doc = np.random.permutation(open('/kaggle/input/gesture-recognition/Project_data/train.csv').readlines())\n",
    "val_doc = np.random.permutation(open('/kaggle/input/gesture-recognition/Project_data/val.csv').readlines())\n",
    "batch_size = 64"
   ]
  },
  {
   "cell_type": "code",
   "execution_count": 7,
   "id": "0b5dadd7",
   "metadata": {
    "execution": {
     "iopub.execute_input": "2022-12-11T15:25:21.635758Z",
     "iopub.status.busy": "2022-12-11T15:25:21.635495Z",
     "iopub.status.idle": "2022-12-11T15:25:21.641855Z",
     "shell.execute_reply": "2022-12-11T15:25:21.640223Z"
    },
    "papermill": {
     "duration": 0.018357,
     "end_time": "2022-12-11T15:25:21.644470",
     "exception": false,
     "start_time": "2022-12-11T15:25:21.626113",
     "status": "completed"
    },
    "tags": []
   },
   "outputs": [
    {
     "name": "stdout",
     "output_type": "stream",
     "text": [
      "663\n",
      "100\n"
     ]
    }
   ],
   "source": [
    "print(len(train_doc))\n",
    "print(len(val_doc))"
   ]
  },
  {
   "cell_type": "markdown",
   "id": "f9e8ceb7",
   "metadata": {
    "papermill": {
     "duration": 0.00841,
     "end_time": "2022-12-11T15:25:21.662048",
     "exception": false,
     "start_time": "2022-12-11T15:25:21.653638",
     "status": "completed"
    },
    "tags": []
   },
   "source": [
    "## Generator\n",
    "This is one of the most important part of the code. The overall structure of the generator has been given. In the generator, you are going to preprocess the images as you have images of 2 different dimensions as well as create a batch of video frames. You have to experiment with `img_idx`, `y`,`z` and normalization such that you get high accuracy."
   ]
  },
  {
   "cell_type": "code",
   "execution_count": 8,
   "id": "2bcfec80",
   "metadata": {
    "execution": {
     "iopub.execute_input": "2022-12-11T15:25:21.680454Z",
     "iopub.status.busy": "2022-12-11T15:25:21.680194Z",
     "iopub.status.idle": "2022-12-11T15:25:21.687468Z",
     "shell.execute_reply": "2022-12-11T15:25:21.686417Z"
    },
    "papermill": {
     "duration": 0.019033,
     "end_time": "2022-12-11T15:25:21.689609",
     "exception": false,
     "start_time": "2022-12-11T15:25:21.670576",
     "status": "completed"
    },
    "tags": []
   },
   "outputs": [
    {
     "data": {
      "text/plain": [
       "array([ 0,  2,  4,  6,  8, 10, 12, 14, 16, 18, 20, 22, 24, 26, 28])"
      ]
     },
     "execution_count": 8,
     "metadata": {},
     "output_type": "execute_result"
    }
   ],
   "source": [
    "img_idx = np.arange(30, step =2)\n",
    "img_idx"
   ]
  },
  {
   "cell_type": "code",
   "execution_count": 9,
   "id": "c033f414",
   "metadata": {
    "execution": {
     "iopub.execute_input": "2022-12-11T15:25:21.708493Z",
     "iopub.status.busy": "2022-12-11T15:25:21.708234Z",
     "iopub.status.idle": "2022-12-11T15:25:21.725809Z",
     "shell.execute_reply": "2022-12-11T15:25:21.724884Z"
    },
    "papermill": {
     "duration": 0.029636,
     "end_time": "2022-12-11T15:25:21.727946",
     "exception": false,
     "start_time": "2022-12-11T15:25:21.698310",
     "status": "completed"
    },
    "tags": []
   },
   "outputs": [],
   "source": [
    "def generator(source_path, folder_list, batch_size):\n",
    "    print( 'Source path = ', source_path, '; batch size =', batch_size)\n",
    "    img_idx = [0,1,2,4,6,8,10,12,14,16,18,20,22,24,26,27,28,29]#create a list of image numbers you want to use for a particular video\n",
    "    while True:\n",
    "        t = np.random.permutation(folder_list)\n",
    "        num_batches = len(source_path)//batch_size # calculate the number of batches\n",
    "        for batch in range(num_batches): # we iterate over the number of batches\n",
    "            batch_data = np.zeros((batch_size,18,84,84,3)) # x is the number of images you use for each video, (y,z) is the final size of the input images and 3 is the number of channels RGB\n",
    "            batch_labels = np.zeros((batch_size,5)) # batch_labels is the one hot representation of the output\n",
    "            for folder in range(batch_size): # iterate over the batch_size\n",
    "                imgs = os.listdir(source_path+'/'+ t[folder + (batch*batch_size)].split(';')[0]) # read all the images in the folder\n",
    "                for idx,item in enumerate(img_idx): #  Iterate iver the frames/images of a folder to read them in\n",
    "                    image = imageio.imread(source_path+'/'+ t[folder + (batch*batch_size)].strip().split(';')[0]+'/'+imgs[item]).astype(np.float32)\n",
    "                    \n",
    "                    #crop the images and resize them. Note that the images are of 2 different shape \n",
    "                    #and the conv3D will throw error if the inputs in a batch have different shapes\n",
    "                    if image.shape[1] == 160:\n",
    "                        image = imresize(image[:,20:140,:],(84,84)).astype(np.float32) #cropping the (120X160) image to make (120X120)\n",
    "                    else:\n",
    "                        print(\"\")\n",
    "                        image = imresize(image,(84,84)).astype(np.float32)\n",
    "                    \n",
    "                    # Normalizing RGB image with mean subtraction \n",
    "                    batch_data[folder,idx,:,:,0] = image[:,:,0] - 104\n",
    "                    batch_data[folder,idx,:,:,1] = image[:,:,1] - 117\n",
    "                    batch_data[folder,idx,:,:,2] = image[:,:,2] - 123\n",
    "                    \n",
    "                batch_labels[folder, int(t[folder + (batch*batch_size)].strip().split(';')[2])] = 1\n",
    "            yield batch_data, batch_labels #you yield the batch_data and the batch_labels, remember what does yield do\n",
    "\n",
    "        \n",
    "        # write the code for the remaining data points which are left after full batches\n",
    "        if(len(t)%batch_size!=0):\n",
    "            batch_data = np.zeros((len(t)%batch_size,18,84,84,3)) # x is the number of images you use for each video, (y,z) is the final size of the input images and 3 is the number of channels RGB\n",
    "            batch_labels = np.zeros((len(t)%batch_size,5)) # batch_labels is the one hot representation of the output\n",
    "            for folder in range(len(t)%batch_size): # iterate over the batch_size\n",
    "                imgs = os.listdir(source_path+'/'+ t[folder + (num_batches*(len(t)%batch_size))].split(';')[0]) # read all the images in the folder\n",
    "                for idx,item in enumerate(img_idx): #  Iterate iver the frames/images of a folder to read them in\n",
    "                    image = imageio.imread(source_path+'/'+ t[folder + (num_batches*(len(t)%batch_size))].strip().split(';')[0]+'/'+imgs[item]).astype(np.float32)\n",
    "                    \n",
    "                    #crop the images and resize them. Note that the images are of 2 different shape \n",
    "                    #and the conv3D will throw error if the inputs in a batch have different shapes\n",
    "\n",
    "                    if image.shape[1] == 160:\n",
    "                        image = imresize(image[:,20:140,:],(84,84)).astype(np.float32)\n",
    "                    else:\n",
    "                        image = imresize(image,(84,84)).astype(np.float32)\n",
    "                    # Normalizing RGB image with mean subtraction\n",
    "                    batch_data[folder,idx,:,:,0] = image[:,:,0] - 104\n",
    "                    batch_data[folder,idx,:,:,1] = image[:,:,1] - 117\n",
    "                    batch_data[folder,idx,:,:,2] = image[:,:,2] - 123\n",
    "                                        \n",
    "                batch_labels[folder, int(t[folder + (num_batches*(len(t)%batch_size))].strip().split(';')[2])] = 1\n",
    "            yield batch_data, batch_labels #you yield the batch_data and the batch_labels, remember what does yield do\n"
   ]
  },
  {
   "cell_type": "markdown",
   "id": "65a6d174",
   "metadata": {
    "papermill": {
     "duration": 0.008648,
     "end_time": "2022-12-11T15:25:21.745781",
     "exception": false,
     "start_time": "2022-12-11T15:25:21.737133",
     "status": "completed"
    },
    "tags": []
   },
   "source": [
    "Note here that a video is represented above in the generator as (number of images, height, width, number of channels). Take this into consideration while creating the model architecture."
   ]
  },
  {
   "cell_type": "code",
   "execution_count": 10,
   "id": "acde8fef",
   "metadata": {
    "execution": {
     "iopub.execute_input": "2022-12-11T15:25:21.766780Z",
     "iopub.status.busy": "2022-12-11T15:25:21.766514Z",
     "iopub.status.idle": "2022-12-11T15:25:21.772334Z",
     "shell.execute_reply": "2022-12-11T15:25:21.771416Z"
    },
    "papermill": {
     "duration": 0.020106,
     "end_time": "2022-12-11T15:25:21.774592",
     "exception": false,
     "start_time": "2022-12-11T15:25:21.754486",
     "status": "completed"
    },
    "tags": []
   },
   "outputs": [
    {
     "name": "stdout",
     "output_type": "stream",
     "text": [
      "# training sequences = 663\n",
      "# validation sequences = 100\n",
      "# epochs = 30\n"
     ]
    }
   ],
   "source": [
    "curr_dt_time = datetime.datetime.now()\n",
    "train_path = '/kaggle/input/gesture-recognition/Project_data/train'\n",
    "val_path = '/kaggle/input/gesture-recognition/Project_data/val'\n",
    "num_train_sequences = len(train_doc)\n",
    "print('# training sequences =', num_train_sequences)\n",
    "num_val_sequences = len(val_doc)\n",
    "print('# validation sequences =', num_val_sequences)\n",
    "num_epochs = 30 # choose the number of epochs\n",
    "print ('# epochs =', num_epochs)"
   ]
  },
  {
   "cell_type": "markdown",
   "id": "e6a9a553",
   "metadata": {
    "papermill": {
     "duration": 0.00862,
     "end_time": "2022-12-11T15:25:21.792129",
     "exception": false,
     "start_time": "2022-12-11T15:25:21.783509",
     "status": "completed"
    },
    "tags": []
   },
   "source": [
    "## Model\n",
    "Here you make the model using different functionalities that Keras provides. Remember to use `Conv3D` and `MaxPooling3D` and not `Conv2D` and `Maxpooling2D` for a 3D convolution model. You would want to use `TimeDistributed` while building a Conv2D + RNN model. Also remember that the last layer is the softmax. Design the network in such a way that the model is able to give good accuracy on the least number of parameters so that it can fit in the memory of the webcam."
   ]
  },
  {
   "cell_type": "code",
   "execution_count": 11,
   "id": "48b6340b",
   "metadata": {
    "execution": {
     "iopub.execute_input": "2022-12-11T15:25:21.811876Z",
     "iopub.status.busy": "2022-12-11T15:25:21.810497Z",
     "iopub.status.idle": "2022-12-11T15:25:24.855367Z",
     "shell.execute_reply": "2022-12-11T15:25:24.854396Z"
    },
    "papermill": {
     "duration": 3.056931,
     "end_time": "2022-12-11T15:25:24.857795",
     "exception": false,
     "start_time": "2022-12-11T15:25:21.800864",
     "status": "completed"
    },
    "tags": []
   },
   "outputs": [
    {
     "name": "stderr",
     "output_type": "stream",
     "text": [
      "2022-12-11 15:25:22.141232: I tensorflow/stream_executor/cuda/cuda_gpu_executor.cc:937] successful NUMA node read from SysFS had negative value (-1), but there must be at least one NUMA node, so returning NUMA node zero\n",
      "2022-12-11 15:25:22.224047: I tensorflow/stream_executor/cuda/cuda_gpu_executor.cc:937] successful NUMA node read from SysFS had negative value (-1), but there must be at least one NUMA node, so returning NUMA node zero\n",
      "2022-12-11 15:25:22.224806: I tensorflow/stream_executor/cuda/cuda_gpu_executor.cc:937] successful NUMA node read from SysFS had negative value (-1), but there must be at least one NUMA node, so returning NUMA node zero\n",
      "2022-12-11 15:25:22.226135: I tensorflow/core/platform/cpu_feature_guard.cc:142] This TensorFlow binary is optimized with oneAPI Deep Neural Network Library (oneDNN) to use the following CPU instructions in performance-critical operations:  AVX2 AVX512F FMA\n",
      "To enable them in other operations, rebuild TensorFlow with the appropriate compiler flags.\n",
      "2022-12-11 15:25:22.226490: I tensorflow/stream_executor/cuda/cuda_gpu_executor.cc:937] successful NUMA node read from SysFS had negative value (-1), but there must be at least one NUMA node, so returning NUMA node zero\n",
      "2022-12-11 15:25:22.227405: I tensorflow/stream_executor/cuda/cuda_gpu_executor.cc:937] successful NUMA node read from SysFS had negative value (-1), but there must be at least one NUMA node, so returning NUMA node zero\n",
      "2022-12-11 15:25:22.228285: I tensorflow/stream_executor/cuda/cuda_gpu_executor.cc:937] successful NUMA node read from SysFS had negative value (-1), but there must be at least one NUMA node, so returning NUMA node zero\n",
      "2022-12-11 15:25:24.117961: I tensorflow/stream_executor/cuda/cuda_gpu_executor.cc:937] successful NUMA node read from SysFS had negative value (-1), but there must be at least one NUMA node, so returning NUMA node zero\n",
      "2022-12-11 15:25:24.118846: I tensorflow/stream_executor/cuda/cuda_gpu_executor.cc:937] successful NUMA node read from SysFS had negative value (-1), but there must be at least one NUMA node, so returning NUMA node zero\n",
      "2022-12-11 15:25:24.119536: I tensorflow/stream_executor/cuda/cuda_gpu_executor.cc:937] successful NUMA node read from SysFS had negative value (-1), but there must be at least one NUMA node, so returning NUMA node zero\n",
      "2022-12-11 15:25:24.120124: I tensorflow/core/common_runtime/gpu/gpu_device.cc:1510] Created device /job:localhost/replica:0/task:0/device:GPU:0 with 15401 MB memory:  -> device: 0, name: Tesla P100-PCIE-16GB, pci bus id: 0000:00:04.0, compute capability: 6.0\n"
     ]
    }
   ],
   "source": [
    "from tensorflow.keras.models import Sequential, Model\n",
    "from tensorflow.keras.layers import Dense, GRU, Flatten, TimeDistributed, Flatten, BatchNormalization, Activation, Dropout\n",
    "\n",
    "from tensorflow.keras.layers import Conv3D, MaxPooling3D, Conv2D, MaxPooling2D\n",
    "from tensorflow.keras.callbacks import ModelCheckpoint, ReduceLROnPlateau\n",
    "from tensorflow.keras import optimizers\n",
    "from tensorflow.keras.optimizers import Adam\n",
    "\n",
    "\n",
    "#write your model here\n",
    "Input_shape = (18, 84, 84, 3)\n",
    "\n",
    "model = Sequential()\n",
    "model.add(Conv3D(64, (3,3,3), padding='same', input_shape=(18,84,84,3)))\n",
    "model.add(BatchNormalization())\n",
    "model.add(Activation('elu'))\n",
    "model.add(MaxPooling3D(pool_size=(2,2,1), strides=(2,2,1)))\n",
    "\n",
    "model.add(Conv3D(128, (3,3,3), padding='same'))\n",
    "model.add(BatchNormalization())\n",
    "model.add(Activation('elu'))\n",
    "model.add(MaxPooling3D(pool_size=(2,2,2), strides=(2,2,2)))\n",
    "\n",
    "model.add(Conv3D(256, (3,3,3), padding='same'))\n",
    "model.add(BatchNormalization())\n",
    "model.add(Activation('elu'))\n",
    "model.add(MaxPooling3D(pool_size=(2,2,2), strides=(2,2,2)))\n",
    "\n",
    "model.add(Conv3D(256, (3,3,3), padding='same'))\n",
    "model.add(BatchNormalization())\n",
    "model.add(Activation('elu'))\n",
    "model.add(MaxPooling3D(pool_size=(2,2,2), strides=(2,2,2)))\n",
    "\n",
    "model.add(Flatten())\n",
    "model.add(Dropout(0.5))\n",
    "model.add(Dense(512, activation='elu'))\n",
    "model.add(Dropout(0.5))\n",
    "model.add(Dense(5, activation='softmax'))"
   ]
  },
  {
   "cell_type": "markdown",
   "id": "0ea618d7",
   "metadata": {
    "papermill": {
     "duration": 0.013191,
     "end_time": "2022-12-11T15:25:24.884746",
     "exception": false,
     "start_time": "2022-12-11T15:25:24.871555",
     "status": "completed"
    },
    "tags": []
   },
   "source": [
    "Now that you have written the model, the next step is to `compile` the model. When you print the `summary` of the model, you'll see the total number of parameters you have to train."
   ]
  },
  {
   "cell_type": "code",
   "execution_count": 12,
   "id": "8a4f65dd",
   "metadata": {
    "execution": {
     "iopub.execute_input": "2022-12-11T15:25:24.912324Z",
     "iopub.status.busy": "2022-12-11T15:25:24.912030Z",
     "iopub.status.idle": "2022-12-11T15:25:24.933371Z",
     "shell.execute_reply": "2022-12-11T15:25:24.929872Z"
    },
    "papermill": {
     "duration": 0.037773,
     "end_time": "2022-12-11T15:25:24.935688",
     "exception": false,
     "start_time": "2022-12-11T15:25:24.897915",
     "status": "completed"
    },
    "scrolled": true,
    "tags": []
   },
   "outputs": [
    {
     "name": "stdout",
     "output_type": "stream",
     "text": [
      "Model: \"sequential\"\n",
      "_________________________________________________________________\n",
      "Layer (type)                 Output Shape              Param #   \n",
      "=================================================================\n",
      "conv3d (Conv3D)              (None, 18, 84, 84, 64)    5248      \n",
      "_________________________________________________________________\n",
      "batch_normalization (BatchNo (None, 18, 84, 84, 64)    256       \n",
      "_________________________________________________________________\n",
      "activation (Activation)      (None, 18, 84, 84, 64)    0         \n",
      "_________________________________________________________________\n",
      "max_pooling3d (MaxPooling3D) (None, 9, 42, 84, 64)     0         \n",
      "_________________________________________________________________\n",
      "conv3d_1 (Conv3D)            (None, 9, 42, 84, 128)    221312    \n",
      "_________________________________________________________________\n",
      "batch_normalization_1 (Batch (None, 9, 42, 84, 128)    512       \n",
      "_________________________________________________________________\n",
      "activation_1 (Activation)    (None, 9, 42, 84, 128)    0         \n",
      "_________________________________________________________________\n",
      "max_pooling3d_1 (MaxPooling3 (None, 4, 21, 42, 128)    0         \n",
      "_________________________________________________________________\n",
      "conv3d_2 (Conv3D)            (None, 4, 21, 42, 256)    884992    \n",
      "_________________________________________________________________\n",
      "batch_normalization_2 (Batch (None, 4, 21, 42, 256)    1024      \n",
      "_________________________________________________________________\n",
      "activation_2 (Activation)    (None, 4, 21, 42, 256)    0         \n",
      "_________________________________________________________________\n",
      "max_pooling3d_2 (MaxPooling3 (None, 2, 10, 21, 256)    0         \n",
      "_________________________________________________________________\n",
      "conv3d_3 (Conv3D)            (None, 2, 10, 21, 256)    1769728   \n",
      "_________________________________________________________________\n",
      "batch_normalization_3 (Batch (None, 2, 10, 21, 256)    1024      \n",
      "_________________________________________________________________\n",
      "activation_3 (Activation)    (None, 2, 10, 21, 256)    0         \n",
      "_________________________________________________________________\n",
      "max_pooling3d_3 (MaxPooling3 (None, 1, 5, 10, 256)     0         \n",
      "_________________________________________________________________\n",
      "flatten (Flatten)            (None, 12800)             0         \n",
      "_________________________________________________________________\n",
      "dropout (Dropout)            (None, 12800)             0         \n",
      "_________________________________________________________________\n",
      "dense (Dense)                (None, 512)               6554112   \n",
      "_________________________________________________________________\n",
      "dropout_1 (Dropout)          (None, 512)               0         \n",
      "_________________________________________________________________\n",
      "dense_1 (Dense)              (None, 5)                 2565      \n",
      "=================================================================\n",
      "Total params: 9,440,773\n",
      "Trainable params: 9,439,365\n",
      "Non-trainable params: 1,408\n",
      "_________________________________________________________________\n",
      "None\n"
     ]
    }
   ],
   "source": [
    "optimiser = optimizers.SGD(lr=0.001, decay=1e-6, momentum=0.9, nesterov=True)\n",
    "model.compile(optimizer=optimiser, loss='categorical_crossentropy', metrics=['categorical_accuracy'],run_eagerly=True)\n",
    "print (model.summary())\n"
   ]
  },
  {
   "cell_type": "markdown",
   "id": "e1b98ab5",
   "metadata": {
    "papermill": {
     "duration": 0.014912,
     "end_time": "2022-12-11T15:25:24.966173",
     "exception": false,
     "start_time": "2022-12-11T15:25:24.951261",
     "status": "completed"
    },
    "tags": []
   },
   "source": [
    "Let us create the `train_generator` and the `val_generator` which will be used in `.fit_generator`."
   ]
  },
  {
   "cell_type": "code",
   "execution_count": 13,
   "id": "385f4cb4",
   "metadata": {
    "execution": {
     "iopub.execute_input": "2022-12-11T15:25:24.998443Z",
     "iopub.status.busy": "2022-12-11T15:25:24.997921Z",
     "iopub.status.idle": "2022-12-11T15:25:25.003482Z",
     "shell.execute_reply": "2022-12-11T15:25:25.002458Z"
    },
    "papermill": {
     "duration": 0.024689,
     "end_time": "2022-12-11T15:25:25.005991",
     "exception": false,
     "start_time": "2022-12-11T15:25:24.981302",
     "status": "completed"
    },
    "tags": []
   },
   "outputs": [],
   "source": [
    "train_generator = generator(train_path, train_doc, batch_size)\n",
    "val_generator = generator(val_path, val_doc, batch_size)"
   ]
  },
  {
   "cell_type": "code",
   "execution_count": 14,
   "id": "7e8fad1d",
   "metadata": {
    "execution": {
     "iopub.execute_input": "2022-12-11T15:25:25.038306Z",
     "iopub.status.busy": "2022-12-11T15:25:25.037998Z",
     "iopub.status.idle": "2022-12-11T15:25:25.045912Z",
     "shell.execute_reply": "2022-12-11T15:25:25.045020Z"
    },
    "papermill": {
     "duration": 0.026543,
     "end_time": "2022-12-11T15:25:25.047986",
     "exception": false,
     "start_time": "2022-12-11T15:25:25.021443",
     "status": "completed"
    },
    "tags": []
   },
   "outputs": [],
   "source": [
    "model_name = 'model_init' + '_' + str(curr_dt_time).replace(' ','').replace(':','_') + '/'\n",
    "    \n",
    "if not os.path.exists(model_name):\n",
    "    os.mkdir(model_name)\n",
    "        \n",
    "filepath = model_name + 'model-{epoch:05d}-{loss:.5f}-{categorical_accuracy:.5f}-{val_loss:.5f}-{val_categorical_accuracy:.5f}.h5'\n",
    "\n",
    "checkpoint = ModelCheckpoint(filepath, monitor='val_loss', verbose=1, save_best_only=False, save_weights_only=False, mode='auto', period=1)\n",
    "\n",
    "LR = ReduceLROnPlateau(monitor='val_loss', factor=0.5, patience=2, verbose=1, mode='min', min_delta=0.0001, cooldown=0, min_lr=0.00001)\n",
    "callbacks_list = [checkpoint, LR]"
   ]
  },
  {
   "cell_type": "markdown",
   "id": "b0e6e5a1",
   "metadata": {
    "papermill": {
     "duration": 0.017206,
     "end_time": "2022-12-11T15:25:25.079313",
     "exception": false,
     "start_time": "2022-12-11T15:25:25.062107",
     "status": "completed"
    },
    "tags": []
   },
   "source": [
    "The `steps_per_epoch` and `validation_steps` are used by `fit_generator` to decide the number of next() calls it need to make."
   ]
  },
  {
   "cell_type": "code",
   "execution_count": 15,
   "id": "623deb5e",
   "metadata": {
    "execution": {
     "iopub.execute_input": "2022-12-11T15:25:25.111612Z",
     "iopub.status.busy": "2022-12-11T15:25:25.111335Z",
     "iopub.status.idle": "2022-12-11T15:25:25.116949Z",
     "shell.execute_reply": "2022-12-11T15:25:25.115895Z"
    },
    "papermill": {
     "duration": 0.023196,
     "end_time": "2022-12-11T15:25:25.119253",
     "exception": false,
     "start_time": "2022-12-11T15:25:25.096057",
     "status": "completed"
    },
    "tags": []
   },
   "outputs": [],
   "source": [
    "if (num_train_sequences%batch_size) == 0:\n",
    "    steps_per_epoch = int(num_train_sequences/batch_size)\n",
    "else:\n",
    "    steps_per_epoch = (num_train_sequences//batch_size) + 1\n",
    "\n",
    "if (num_val_sequences%batch_size) == 0:\n",
    "    validation_steps = int(num_val_sequences/batch_size)\n",
    "else:\n",
    "    validation_steps = (num_val_sequences//batch_size) + 1"
   ]
  },
  {
   "cell_type": "markdown",
   "id": "92245175",
   "metadata": {
    "papermill": {
     "duration": 0.008773,
     "end_time": "2022-12-11T15:25:25.136996",
     "exception": false,
     "start_time": "2022-12-11T15:25:25.128223",
     "status": "completed"
    },
    "tags": []
   },
   "source": [
    "Let us now fit the model. This will start training the model and with the help of the checkpoints, you'll be able to save the model at the end of each epoch."
   ]
  },
  {
   "cell_type": "code",
   "execution_count": 16,
   "id": "056ffa89",
   "metadata": {
    "execution": {
     "iopub.execute_input": "2022-12-11T15:25:25.156419Z",
     "iopub.status.busy": "2022-12-11T15:25:25.156125Z",
     "iopub.status.idle": "2022-12-11T15:41:49.950254Z",
     "shell.execute_reply": "2022-12-11T15:41:49.949218Z"
    },
    "papermill": {
     "duration": 984.806965,
     "end_time": "2022-12-11T15:41:49.953093",
     "exception": false,
     "start_time": "2022-12-11T15:25:25.146128",
     "status": "completed"
    },
    "tags": []
   },
   "outputs": [
    {
     "name": "stdout",
     "output_type": "stream",
     "text": [
      "Source path =  /kaggle/input/gesture-recognition/Project_data/train ; batch size = 64\n"
     ]
    },
    {
     "name": "stderr",
     "output_type": "stream",
     "text": [
      "2022-12-11 15:25:28.018899: I tensorflow/compiler/mlir/mlir_graph_optimization_pass.cc:185] None of the MLIR Optimization Passes are enabled (registered 2)\n"
     ]
    },
    {
     "name": "stdout",
     "output_type": "stream",
     "text": [
      "Epoch 1/30\n"
     ]
    },
    {
     "name": "stderr",
     "output_type": "stream",
     "text": [
      "2022-12-11 15:25:28.930173: I tensorflow/stream_executor/cuda/cuda_dnn.cc:369] Loaded cuDNN version 8005\n"
     ]
    },
    {
     "name": "stdout",
     "output_type": "stream",
     "text": [
      "11/11 [==============================] - ETA: 0s - loss: 5.6150 - categorical_accuracy: 0.2767Source path =  /kaggle/input/gesture-recognition/Project_data/val ; batch size = 64\n",
      "11/11 [==============================] - 44s 4s/step - loss: 5.6150 - categorical_accuracy: 0.2767 - val_loss: 28.9750 - val_categorical_accuracy: 0.1944\n",
      "\n",
      "Epoch 00001: saving model to model_init_2022-12-1115_25_21.768501/model-00001-5.61504-0.27668-28.97498-0.19444.h5\n",
      "Epoch 2/30\n",
      "11/11 [==============================] - 35s 3s/step - loss: 2.6708 - categorical_accuracy: 0.3992 - val_loss: 37.8433 - val_categorical_accuracy: 0.2222\n",
      "\n",
      "Epoch 00002: saving model to model_init_2022-12-1115_25_21.768501/model-00002-2.67082-0.39921-37.84330-0.22222.h5\n",
      "Epoch 3/30\n",
      "11/11 [==============================] - 35s 3s/step - loss: 2.0390 - categorical_accuracy: 0.4862 - val_loss: 29.1604 - val_categorical_accuracy: 0.1944\n",
      "\n",
      "Epoch 00003: saving model to model_init_2022-12-1115_25_21.768501/model-00003-2.03897-0.48617-29.16038-0.19444.h5\n",
      "\n",
      "Epoch 00003: ReduceLROnPlateau reducing learning rate to 0.0005000000237487257.\n",
      "Epoch 4/30\n",
      "11/11 [==============================] - 34s 3s/step - loss: 1.6578 - categorical_accuracy: 0.5296 - val_loss: 22.1653 - val_categorical_accuracy: 0.2917\n",
      "\n",
      "Epoch 00004: saving model to model_init_2022-12-1115_25_21.768501/model-00004-1.65782-0.52964-22.16528-0.29167.h5\n",
      "Epoch 5/30\n",
      "11/11 [==============================] - 32s 3s/step - loss: 1.7128 - categorical_accuracy: 0.5059 - val_loss: 12.7700 - val_categorical_accuracy: 0.2083\n",
      "\n",
      "Epoch 00005: saving model to model_init_2022-12-1115_25_21.768501/model-00005-1.71279-0.50593-12.76997-0.20833.h5\n",
      "Epoch 6/30\n",
      "11/11 [==============================] - 31s 3s/step - loss: 1.0949 - categorical_accuracy: 0.6087 - val_loss: 10.8620 - val_categorical_accuracy: 0.1944\n",
      "\n",
      "Epoch 00006: saving model to model_init_2022-12-1115_25_21.768501/model-00006-1.09494-0.60870-10.86203-0.19444.h5\n",
      "Epoch 7/30\n",
      "11/11 [==============================] - 33s 3s/step - loss: 1.3333 - categorical_accuracy: 0.5336 - val_loss: 6.3458 - val_categorical_accuracy: 0.2778\n",
      "\n",
      "Epoch 00007: saving model to model_init_2022-12-1115_25_21.768501/model-00007-1.33326-0.53360-6.34583-0.27778.h5\n",
      "Epoch 8/30\n",
      "11/11 [==============================] - 32s 3s/step - loss: 1.2695 - categorical_accuracy: 0.5968 - val_loss: 8.3918 - val_categorical_accuracy: 0.2361\n",
      "\n",
      "Epoch 00008: saving model to model_init_2022-12-1115_25_21.768501/model-00008-1.26950-0.59684-8.39175-0.23611.h5\n",
      "Epoch 9/30\n",
      "11/11 [==============================] - 31s 3s/step - loss: 1.1738 - categorical_accuracy: 0.5889 - val_loss: 6.0411 - val_categorical_accuracy: 0.2361\n",
      "\n",
      "Epoch 00009: saving model to model_init_2022-12-1115_25_21.768501/model-00009-1.17378-0.58893-6.04109-0.23611.h5\n",
      "Epoch 10/30\n",
      "11/11 [==============================] - 30s 3s/step - loss: 1.2265 - categorical_accuracy: 0.5573 - val_loss: 4.3843 - val_categorical_accuracy: 0.2222\n",
      "\n",
      "Epoch 00010: saving model to model_init_2022-12-1115_25_21.768501/model-00010-1.22650-0.55731-4.38428-0.22222.h5\n",
      "Epoch 11/30\n",
      "11/11 [==============================] - 30s 3s/step - loss: 1.1289 - categorical_accuracy: 0.5731 - val_loss: 3.7639 - val_categorical_accuracy: 0.2639\n",
      "\n",
      "Epoch 00011: saving model to model_init_2022-12-1115_25_21.768501/model-00011-1.12892-0.57312-3.76394-0.26389.h5\n",
      "Epoch 12/30\n",
      "11/11 [==============================] - 30s 3s/step - loss: 1.0009 - categorical_accuracy: 0.6087 - val_loss: 2.9786 - val_categorical_accuracy: 0.2083\n",
      "\n",
      "Epoch 00012: saving model to model_init_2022-12-1115_25_21.768501/model-00012-1.00087-0.60870-2.97861-0.20833.h5\n",
      "Epoch 13/30\n",
      "11/11 [==============================] - 30s 3s/step - loss: 0.8716 - categorical_accuracy: 0.6640 - val_loss: 2.1191 - val_categorical_accuracy: 0.4583\n",
      "\n",
      "Epoch 00013: saving model to model_init_2022-12-1115_25_21.768501/model-00013-0.87165-0.66403-2.11907-0.45833.h5\n",
      "Epoch 14/30\n",
      "11/11 [==============================] - 30s 3s/step - loss: 1.1453 - categorical_accuracy: 0.5455 - val_loss: 2.3356 - val_categorical_accuracy: 0.3194\n",
      "\n",
      "Epoch 00014: saving model to model_init_2022-12-1115_25_21.768501/model-00014-1.14533-0.54545-2.33560-0.31944.h5\n",
      "Epoch 15/30\n",
      "11/11 [==============================] - 31s 3s/step - loss: 1.0390 - categorical_accuracy: 0.6601 - val_loss: 0.9015 - val_categorical_accuracy: 0.6111\n",
      "\n",
      "Epoch 00015: saving model to model_init_2022-12-1115_25_21.768501/model-00015-1.03904-0.66008-0.90149-0.61111.h5\n",
      "Epoch 16/30\n",
      "11/11 [==============================] - 29s 3s/step - loss: 0.9632 - categorical_accuracy: 0.6364 - val_loss: 1.7554 - val_categorical_accuracy: 0.4583\n",
      "\n",
      "Epoch 00016: saving model to model_init_2022-12-1115_25_21.768501/model-00016-0.96316-0.63636-1.75542-0.45833.h5\n",
      "Epoch 17/30\n",
      "11/11 [==============================] - 30s 3s/step - loss: 0.8538 - categorical_accuracy: 0.6877 - val_loss: 1.2205 - val_categorical_accuracy: 0.5694\n",
      "\n",
      "Epoch 00017: saving model to model_init_2022-12-1115_25_21.768501/model-00017-0.85377-0.68775-1.22049-0.56944.h5\n",
      "\n",
      "Epoch 00017: ReduceLROnPlateau reducing learning rate to 0.0002500000118743628.\n",
      "Epoch 18/30\n",
      "11/11 [==============================] - 30s 3s/step - loss: 1.0982 - categorical_accuracy: 0.5968 - val_loss: 0.9440 - val_categorical_accuracy: 0.6528\n",
      "\n",
      "Epoch 00018: saving model to model_init_2022-12-1115_25_21.768501/model-00018-1.09820-0.59684-0.94398-0.65278.h5\n",
      "Epoch 19/30\n",
      "11/11 [==============================] - 32s 3s/step - loss: 0.9038 - categorical_accuracy: 0.6364 - val_loss: 0.9273 - val_categorical_accuracy: 0.6667\n",
      "\n",
      "Epoch 00019: saving model to model_init_2022-12-1115_25_21.768501/model-00019-0.90383-0.63636-0.92730-0.66667.h5\n",
      "\n",
      "Epoch 00019: ReduceLROnPlateau reducing learning rate to 0.0001250000059371814.\n",
      "Epoch 20/30\n",
      "11/11 [==============================] - 30s 3s/step - loss: 0.7638 - categorical_accuracy: 0.7312 - val_loss: 0.8668 - val_categorical_accuracy: 0.6528\n",
      "\n",
      "Epoch 00020: saving model to model_init_2022-12-1115_25_21.768501/model-00020-0.76378-0.73123-0.86682-0.65278.h5\n",
      "Epoch 21/30\n",
      "11/11 [==============================] - 29s 3s/step - loss: 0.8926 - categorical_accuracy: 0.6917 - val_loss: 1.1370 - val_categorical_accuracy: 0.5972\n",
      "\n",
      "Epoch 00021: saving model to model_init_2022-12-1115_25_21.768501/model-00021-0.89263-0.69170-1.13702-0.59722.h5\n",
      "Epoch 22/30\n",
      "11/11 [==============================] - 28s 3s/step - loss: 0.8291 - categorical_accuracy: 0.7154 - val_loss: 0.7485 - val_categorical_accuracy: 0.7778\n",
      "\n",
      "Epoch 00022: saving model to model_init_2022-12-1115_25_21.768501/model-00022-0.82913-0.71542-0.74853-0.77778.h5\n",
      "Epoch 23/30\n",
      "11/11 [==============================] - 29s 3s/step - loss: 0.7793 - categorical_accuracy: 0.7391 - val_loss: 0.6948 - val_categorical_accuracy: 0.8056\n",
      "\n",
      "Epoch 00023: saving model to model_init_2022-12-1115_25_21.768501/model-00023-0.77934-0.73913-0.69479-0.80556.h5\n",
      "Epoch 24/30\n",
      "11/11 [==============================] - 30s 3s/step - loss: 0.6584 - categorical_accuracy: 0.7352 - val_loss: 0.6659 - val_categorical_accuracy: 0.7500\n",
      "\n",
      "Epoch 00024: saving model to model_init_2022-12-1115_25_21.768501/model-00024-0.65836-0.73518-0.66587-0.75000.h5\n",
      "Epoch 25/30\n",
      "11/11 [==============================] - 30s 3s/step - loss: 0.8315 - categorical_accuracy: 0.7075 - val_loss: 0.8010 - val_categorical_accuracy: 0.7500\n",
      "\n",
      "Epoch 00025: saving model to model_init_2022-12-1115_25_21.768501/model-00025-0.83149-0.70751-0.80099-0.75000.h5\n",
      "Epoch 26/30\n",
      "11/11 [==============================] - 30s 3s/step - loss: 0.6605 - categorical_accuracy: 0.7391 - val_loss: 0.9307 - val_categorical_accuracy: 0.6806\n",
      "\n",
      "Epoch 00026: saving model to model_init_2022-12-1115_25_21.768501/model-00026-0.66052-0.73913-0.93069-0.68056.h5\n",
      "\n",
      "Epoch 00026: ReduceLROnPlateau reducing learning rate to 6.25000029685907e-05.\n",
      "Epoch 27/30\n",
      "11/11 [==============================] - 30s 3s/step - loss: 0.7574 - categorical_accuracy: 0.7194 - val_loss: 0.7847 - val_categorical_accuracy: 0.6667\n",
      "\n",
      "Epoch 00027: saving model to model_init_2022-12-1115_25_21.768501/model-00027-0.75735-0.71937-0.78468-0.66667.h5\n",
      "Epoch 28/30\n",
      "11/11 [==============================] - 30s 3s/step - loss: 0.7739 - categorical_accuracy: 0.7431 - val_loss: 0.7286 - val_categorical_accuracy: 0.7083\n",
      "\n",
      "Epoch 00028: saving model to model_init_2022-12-1115_25_21.768501/model-00028-0.77386-0.74308-0.72860-0.70833.h5\n",
      "\n",
      "Epoch 00028: ReduceLROnPlateau reducing learning rate to 3.125000148429535e-05.\n",
      "Epoch 29/30\n",
      "11/11 [==============================] - 30s 3s/step - loss: 0.7216 - categorical_accuracy: 0.7273 - val_loss: 0.5734 - val_categorical_accuracy: 0.7639\n",
      "\n",
      "Epoch 00029: saving model to model_init_2022-12-1115_25_21.768501/model-00029-0.72159-0.72727-0.57340-0.76389.h5\n",
      "Epoch 30/30\n",
      "11/11 [==============================] - 29s 3s/step - loss: 0.6744 - categorical_accuracy: 0.7233 - val_loss: 0.7805 - val_categorical_accuracy: 0.7222\n",
      "\n",
      "Epoch 00030: saving model to model_init_2022-12-1115_25_21.768501/model-00030-0.67445-0.72332-0.78055-0.72222.h5\n"
     ]
    }
   ],
   "source": [
    "history = model.fit_generator(train_generator, steps_per_epoch=steps_per_epoch, epochs=num_epochs, verbose=1, \n",
    "                    callbacks=callbacks_list, validation_data=val_generator, \n",
    "                    validation_steps=validation_steps, class_weight=None, workers=1, initial_epoch=0)"
   ]
  },
  {
   "cell_type": "code",
   "execution_count": 17,
   "id": "b49be0ac",
   "metadata": {
    "execution": {
     "iopub.execute_input": "2022-12-11T15:41:50.022526Z",
     "iopub.status.busy": "2022-12-11T15:41:50.022112Z",
     "iopub.status.idle": "2022-12-11T15:41:50.416042Z",
     "shell.execute_reply": "2022-12-11T15:41:50.415081Z"
    },
    "papermill": {
     "duration": 0.432816,
     "end_time": "2022-12-11T15:41:50.418279",
     "exception": false,
     "start_time": "2022-12-11T15:41:49.985463",
     "status": "completed"
    },
    "tags": []
   },
   "outputs": [
    {
     "data": {
      "text/plain": [
       "<matplotlib.legend.Legend at 0x7fe9b5329c50>"
      ]
     },
     "execution_count": 17,
     "metadata": {},
     "output_type": "execute_result"
    },
    {
     "data": {
      "image/png": "[encoded data removed]",
      "text/plain": [
       "<Figure size 1152x288 with 2 Axes>"
      ]
     },
     "metadata": {
      "needs_background": "light"
     },
     "output_type": "display_data"
    }
   ],
   "source": [
    "fig, axes = plt.subplots(nrows=1, ncols=2, figsize=(16,4))\n",
    "axes[0].plot(history.history['categorical_accuracy'])   \n",
    "axes[0].plot(history.history['val_categorical_accuracy'])\n",
    "axes[0].legend(['categorical_accuracy','val_categorical_accuracy'])\n",
    "\n",
    "axes[1].plot(history.history['loss'])   \n",
    "axes[1].plot(history.history['val_loss'])\n",
    "axes[1].legend(['loss','val_loss'])\n"
   ]
  },
  {
   "cell_type": "code",
   "execution_count": null,
   "id": "45615a8d",
   "metadata": {
    "papermill": {
     "duration": 0.03041,
     "end_time": "2022-12-11T15:41:50.479549",
     "exception": false,
     "start_time": "2022-12-11T15:41:50.449139",
     "status": "completed"
    },
    "tags": []
   },
   "outputs": [],
   "source": []
  }
 ],
 "metadata": {
  "kernelspec": {
   "display_name": "Python 3",
   "language": "python",
   "name": "python3"
  },
  "language_info": {
   "codemirror_mode": {
    "name": "ipython",
    "version": 3
   },
   "file_extension": ".py",
   "mimetype": "text/x-python",
   "name": "python",
   "nbconvert_exporter": "python",
   "pygments_lexer": "ipython3",
   "version": "3.7.12"
  },
  "papermill": {
   "default_parameters": {},
   "duration": 1023.63526,
   "end_time": "2022-12-11T15:41:53.901997",
   "environment_variables": {},
   "exception": null,
   "input_path": "__notebook__.ipynb",
   "output_path": "__notebook__.ipynb",
   "parameters": {},
   "start_time": "2022-12-11T15:24:50.266737",
   "version": "2.3.4"
  }
 },
 "nbformat": 4,
 "nbformat_minor": 5
}
